{
 "cells": [
  {
   "cell_type": "markdown",
   "metadata": {},
   "source": [
    "# Homework 0 - due Sunday August 28, 2022 at 11:59pm\n",
    "\n",
    "For this homework you will hand in (upload) to canvas this iPython notebook renamed `hw0_YourEID.ipynb`. Please reset your kernel and rerun everything from the beginning (`Kernel` >> `Restart and Run All`). \n",
    "\n",
    "This homework serves mostly as a self-evaluation of programming skills assumed in this class. It should be relatively straightforward and take less than an hour to do once you have your environment set up -- please reach out to Hongli or Jessy immediately if you are having any issues. \n",
    "\n",
    "This homework is pass/fail; failure to turn in this homework will result in a 0 for homework 1.  For programming tasks, make sure that your code can run using Python 3.7+. **No points will be awarded if the code cannot be executed or if Python outputs an error.**\n",
    "\n",
    "**If you take more than an hour to finish this homework (installation time etc aside), please get in touch!**\n"
   ]
  },
  {
   "cell_type": "markdown",
   "metadata": {},
   "source": [
    "## Task 1: Python environment setup.\n",
    "For this class, we recommend the Anaconda distribution of Python: https://www.anaconda.com/distribution/\n",
    "\n",
    "Anaconda is especially popular among data scientists, due to its simplicity in package management and compatibility with non-Python packages that data science often needs. \n",
    "Please make sure that you download the **Python 3** version.\n",
    " It is not a requirement to use Anaconda, as long as you have Jupyter notebook configured with Python 3.7+, and that you can correctly install/configure packages outside of Anaconda (e.g., using `pip`). \n",
    "\n"
   ]
  },
  {
   "cell_type": "code",
   "execution_count": 1,
   "metadata": {},
   "outputs": [
    {
     "name": "stdout",
     "output_type": "stream",
     "text": [
      "python: v 3.9.12 (main, Apr  4 2022, 05:22:27) [MSC v.1916 64 bit (AMD64)]\n",
      "numpy: v 1.21.5\n",
      "scipy: v 1.7.3\n",
      "nltk: v 3.7\n",
      "pandas: v 1.4.2\n",
      "sklearn: v 1.0.2\n"
     ]
    }
   ],
   "source": [
    "## Run, but do not change. Make sure this does not throw an error\n",
    "\n",
    "import sys\n",
    "import numpy\n",
    "import scipy\n",
    "import nltk\n",
    "import pandas\n",
    "import sklearn\n",
    "\n",
    "print(\"python: v\", sys.version)\n",
    "print(\"numpy: v\", numpy.__version__)\n",
    "print(\"scipy: v\", scipy.__version__)\n",
    "print(\"nltk: v\", nltk.__version__)\n",
    "print(\"pandas: v\", pandas.__version__)\n",
    "print(\"sklearn: v\", sklearn.__version__)"
   ]
  },
  {
   "cell_type": "markdown",
   "metadata": {},
   "source": [
    "## Task 2: Palindromes\n",
    "\n",
    "For this exercise, we will do a short string warm-up. Palindromes are words that reads the same from left to right and from right to left, e.g., \"madam\". Create a function named `is_palindrome` that takes in a word (string) as its argument, and returns a boolean that is True if the word is a palindrome.\n",
    "\n",
    "``\n",
    "In[]: is_palindrome('madam')\n",
    "Out[]: True\n",
    "In[]: is_palindrome('palindrome')\n",
    "Out[]: False\n",
    "``\n",
    "\n"
   ]
  },
  {
   "cell_type": "code",
   "execution_count": 2,
   "metadata": {},
   "outputs": [],
   "source": [
    "# assumes only one word as input\n",
    "\n",
    "def is_palindrome(word):\n",
    "    \n",
    "    return word == word[::-1]\n"
   ]
  },
  {
   "cell_type": "code",
   "execution_count": 3,
   "metadata": {},
   "outputs": [
    {
     "name": "stdout",
     "output_type": "stream",
     "text": [
      "True\n",
      "False\n"
     ]
    }
   ],
   "source": [
    "## Do not change ##\n",
    "\n",
    "print(is_palindrome('madam'))\n",
    "print(is_palindrome('palindrome'))"
   ]
  },
  {
   "cell_type": "markdown",
   "metadata": {},
   "source": [
    "## Task 3 : Counting and Frequencies\n",
    "\n",
    "In this exercise we will do a little warm-up on counting and frequencies.\n",
    "\n",
    "Write a function `char_freq` such that when given a string, outputs a list of `tuples` of `(char, count)` in descending order of `count`.\n",
    "\n",
    "``\n",
    "In[]: char_freq('Colorless green ideas sleep furiously')\n",
    "Out[]: [('e', 6), ('s', 5), ('l', 4), (' ', 4), ('o', 3), ('r', 3), ('i', 2), ('u', 2), ('C', 1), ('g', 1), ('n', 1), ('d', 1), ('a', 1), ('p', 1), ('f', 1), ('y', 1)]\n",
    "``"
   ]
  },
  {
   "cell_type": "code",
   "execution_count": 4,
   "metadata": {},
   "outputs": [
    {
     "name": "stdout",
     "output_type": "stream",
     "text": [
      "[('e', 6), ('s', 5), (' ', 4), ('l', 4), ('o', 3), ('r', 3), ('i', 2), ('u', 2), ('C', 1), ('a', 1), ('d', 1), ('f', 1), ('g', 1), ('n', 1), ('p', 1), ('y', 1)]\n"
     ]
    }
   ],
   "source": [
    "def char_freq(string):\n",
    "    \n",
    "    setChar = set()\n",
    "    lst = []\n",
    "    \n",
    "    for char in string:\n",
    "        setChar.add(char)\n",
    "    \n",
    "    for char in setChar:\n",
    "        count = string.count(char)\n",
    "        lst.append((char, count))\n",
    "    \n",
    "    lst.sort(key = lambda y: y[0])\n",
    "    lst.sort(key = lambda x: x[1], reverse = True)\n",
    "    return lst\n",
    "\n",
    "## Do not change below here##\n",
    "print(char_freq(\"Colorless green ideas sleep furiously\"))"
   ]
  },
  {
   "cell_type": "markdown",
   "metadata": {},
   "source": [
    "## Task 4: Examining Sentences\n",
    "\n",
    "Write a function `find_uncommon_words` such that given two sentences as strings `sent1` and `sent2`, `find_uncommon_words` returns a list of all uncommon words. A word is uncommon if it appears exactly once in any one of the sentences, and does not appear in the other sentence.\n",
    "\n",
    "You can assume that a sentence is a string of space-separated words. Each word consists only of lowercase letters. For now, you can also just use the `split()` function to split a sentence into words.\n",
    "\n",
    "``\n",
    "In[]: sent1 = 'Colorless green ideas sleep furiously'\n",
    "In[]: sent2 = 'Colorful red ideas play furiously'\n",
    "In[]: find_uncommon_words(sent1, sent2)\n",
    "Out[]: ['Colorful', 'play', 'green', 'red', 'sleep', 'Colorless']\n",
    "``"
   ]
  },
  {
   "cell_type": "code",
   "execution_count": 5,
   "metadata": {},
   "outputs": [
    {
     "name": "stdout",
     "output_type": "stream",
     "text": [
      "['Colorless', 'red', 'play', 'green', 'Colorful', 'sleep']\n"
     ]
    }
   ],
   "source": [
    "def find_uncommon_words(sent1, sent2):\n",
    "    \n",
    "    sent1 = set(sent1.split())\n",
    "    sent2 = set(sent2.split())\n",
    "    \n",
    "    uncommon1 = sent1.difference(sent2)\n",
    "    uncommon2 = sent2.difference(sent1)\n",
    "    uncommon = list(uncommon1.union(uncommon2))\n",
    "    \n",
    "    return uncommon\n",
    "\n",
    "## Do not change below here##\n",
    "sent1 = 'Colorless green ideas sleep furiously'\n",
    "sent2 = 'Colorful red ideas play furiously'\n",
    "print(find_uncommon_words(sent1, sent2))"
   ]
  },
  {
   "cell_type": "markdown",
   "metadata": {},
   "source": [
    "## Optional:\n",
    "\n",
    "We would love to know a little more about each of our students. If you would like, please answer some/any of the questions below:\n",
    "\n",
    "a) What is your year and major(s): \n",
    "\n",
    "b) Take a look at the course schedule website (https://jessyli.com/courses/lin373n). Which topic(s) are you excited about? Would you like to suggest any topic?\n",
    "\n",
    "c) Anything you would like to tell us!"
   ]
  },
  {
   "cell_type": "markdown",
   "metadata": {},
   "source": [
    "a) I'm a third year majoring in Math, French and Linguistics with the Elements of Computing certificate. \n",
    "<br/>\n",
    "b) I'm excited about machine learning algorithms but with an emphasis in language and text analysis, as well as NLP!"
   ]
  }
 ],
 "metadata": {
  "kernelspec": {
   "display_name": "Python 3 (ipykernel)",
   "language": "python",
   "name": "python3"
  },
  "language_info": {
   "codemirror_mode": {
    "name": "ipython",
    "version": 3
   },
   "file_extension": ".py",
   "mimetype": "text/x-python",
   "name": "python",
   "nbconvert_exporter": "python",
   "pygments_lexer": "ipython3",
   "version": "3.9.12"
  }
 },
 "nbformat": 4,
 "nbformat_minor": 2
}
