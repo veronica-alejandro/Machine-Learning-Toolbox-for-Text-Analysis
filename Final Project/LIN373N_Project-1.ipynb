{
  "cells": [
    {
      "cell_type": "markdown",
      "metadata": {
        "id": "feY9c-HuMY9I"
      },
      "source": [
        "# LIN 373N Final Project by Veronica Alejandro, Tran Nguyen #\n",
        "Our goal for this project is to train different classifier models to classify the rating of a product based on its review. We will be using the Kaggle dataset \"Women's E-commerce Clothing Review.\" "
      ]
    },
    {
      "cell_type": "markdown",
      "metadata": {
        "id": "Vp8zKo08fjB6"
      },
      "source": [
        "### 01. Imports ###\n"
      ]
    },
    {
      "cell_type": "code",
      "execution_count": null,
      "metadata": {
        "colab": {
          "base_uri": "https://localhost:8080/"
        },
        "id": "9wk5xff-MPij",
        "outputId": "e1e5cf59-0570-48e3-f1d0-fa650085944f"
      },
      "outputs": [
        {
          "output_type": "stream",
          "name": "stdout",
          "text": [
            "Mounted at /content/drive\n"
          ]
        }
      ],
      "source": [
        "from google.colab import drive\n",
        "drive.mount('/content/drive')"
      ]
    },
    {
      "cell_type": "code",
      "execution_count": null,
      "metadata": {
        "id": "9TfzOkqufv91"
      },
      "outputs": [],
      "source": [
        "import pandas as pd\n",
        "import nltk\n",
        "\n",
        "from sklearn.model_selection import train_test_split\n",
        "from sklearn.feature_extraction.text import CountVectorizer, TfidfVectorizer\n",
        "\n",
        "from sklearn import svm, datasets\n",
        "from sklearn.model_selection import GridSearchCV\n",
        "\n",
        "from sklearn.naive_bayes import MultinomialNB\n",
        "from sklearn.linear_model import LogisticRegression\n",
        "\n",
        "from sklearn import metrics\n",
        "from sklearn.metrics import f1_score\n",
        "\n",
        "import numpy as np \n",
        "import collections\n",
        "import re\n",
        "\n",
        "from sklearn.tree import DecisionTreeClassifier\n",
        "from sklearn.ensemble import RandomForestClassifier\n",
        "\n",
        "from sklearn.tree import plot_tree"
      ]
    },
    {
      "cell_type": "markdown",
      "metadata": {
        "id": "YMEBh5PgNMXu"
      },
      "source": [
        "### 02. Downloading + processing data ###\n"
      ]
    },
    {
      "cell_type": "code",
      "execution_count": null,
      "metadata": {
        "colab": {
          "base_uri": "https://localhost:8080/"
        },
        "id": "AQn-8JT3f4Qz",
        "outputId": "774512e9-3f5f-4a1f-bce4-d817473eeefa"
      },
      "outputs": [
        {
          "output_type": "execute_result",
          "data": {
            "text/plain": [
              "<bound method NDFrame._add_numeric_operations.<locals>.sum of                                              Review Text  Rating\n",
              "0      Absolutely wonderful - silky and sexy and comf...       4\n",
              "1      Love this dress!  it's sooo pretty.  i happene...       5\n",
              "2      I had such high hopes for this dress and reall...       3\n",
              "3      I love, love, love this jumpsuit. it's fun, fl...       5\n",
              "4      This shirt is very flattering to all due to th...       5\n",
              "...                                                  ...     ...\n",
              "23481  I was very happy to snag this dress at such a ...       5\n",
              "23482  It reminds me of maternity clothes. soft, stre...       3\n",
              "23483  This fit well, but the top was very see throug...       3\n",
              "23484  I bought this dress for a wedding i have this ...       3\n",
              "23485  This dress in a lovely platinum is feminine an...       5\n",
              "\n",
              "[23486 rows x 2 columns]>"
            ]
          },
          "metadata": {},
          "execution_count": 20
        }
      ],
      "source": [
        "\n",
        "# download dataset\n",
        "data = pd.read_csv('/content/drive/My Drive/reviews.csv', encoding = 'utf-8')\n",
        "# create dataframe using only review text + rating\n",
        "df = data[['Review Text', 'Rating']]\n",
        "df.sum\n"
      ]
    },
    {
      "cell_type": "markdown",
      "metadata": {
        "id": "8Nqg6JNvimiD"
      },
      "source": [
        "### 03. Classifier models ###"
      ]
    },
    {
      "cell_type": "markdown",
      "metadata": {
        "id": "GgajqsblwjYM"
      },
      "source": [
        "#### Decision Trees ####\n"
      ]
    },
    {
      "cell_type": "markdown",
      "metadata": {
        "id": "_AUoZy7Uth8G"
      },
      "source": [
        "Prep Work"
      ]
    },
    {
      "cell_type": "code",
      "execution_count": null,
      "metadata": {
        "id": "DtUvjgH3tlgh"
      },
      "outputs": [],
      "source": [
        "# Removing datapoints having missing values and duplicate Review text\n",
        "df_after_drop = df[df['Review Text'].notnull()]\n",
        "df_after_drop = df_after_drop.drop_duplicates(['Review Text'],keep='first')\n",
        "\n",
        "## Train-test split\n",
        "X = df_after_drop['Review Text']\n",
        "y = df_after_drop['Rating']\n",
        "X_train, X_test, y_train, y_test = train_test_split(X, y, random_state = 9)\n",
        "\n",
        "## BoW to vectorize\n",
        "CountVec = CountVectorizer(ngram_range=(1,1), # to use bigrams ngram_range=(2,2)\n",
        "                           stop_words='english', min_df = 5)\n",
        "\n",
        "#transform CV\n",
        "cv_train = CountVec.fit_transform(X_train.values.astype('str'))\n",
        "cv_test = CountVec.transform(X_test)\n",
        "\n",
        "#create dataframe; the more readable version of the above training df\n",
        "cv_train_df = pd.DataFrame(cv_train.toarray(),columns=CountVec.get_feature_names_out())\n",
        "cv_test_df = pd.DataFrame(cv_test.toarray(), columns=CountVec.get_feature_names_out())\n",
        "\n",
        "## TFID\n",
        "#vectorizer = TfidfVectorizer(stop_words='english', min_df = 5)\n",
        "#tfid_train = vectorizer.fit_transform(X_train)\n",
        "#tfid_test = vectorizer.transform(X_test)\n",
        "\n",
        "#dataframe for TFID\n",
        "#tfid_train_df = pd.DataFrame(tfid_train.toarray(),columns=vectorizer.get_feature_names_out())\n",
        "#tfid_test_df = pd.DataFrame(tfid_test.toarray(),columns=vectorizer.get_feature_names_out())"
      ]
    },
    {
      "cell_type": "code",
      "execution_count": null,
      "metadata": {
        "id": "pAG4dTSiD3FD"
      },
      "outputs": [],
      "source": [
        "#combine\n",
        "#feature_train = pd.concat([cv_train_df, tfid_train_df], axis=1)\n",
        "#feature_test = pd.concat([cv_test_df, tfid_test_df], axis=1)"
      ]
    },
    {
      "cell_type": "markdown",
      "metadata": {
        "id": "m5FkDau2uvon"
      },
      "source": [
        "Decision Tree fit"
      ]
    },
    {
      "cell_type": "code",
      "execution_count": null,
      "metadata": {
        "colab": {
          "base_uri": "https://localhost:8080/"
        },
        "id": "rJ07cAG-xED-",
        "outputId": "caad9d4a-6741-4095-9020-2741ee463c30"
      },
      "outputs": [
        {
          "output_type": "execute_result",
          "data": {
            "text/plain": [
              "GridSearchCV(estimator=DecisionTreeClassifier(),\n",
              "             param_grid={'max_depth': [1, 10], 'min_samples_leaf': [1, 1]})"
            ]
          },
          "metadata": {},
          "execution_count": 23
        }
      ],
      "source": [
        "dt_params = {\"min_samples_leaf\": [1,1], \"max_depth\": [1, 10]}\n",
        "dt = DecisionTreeClassifier() #this is empty\n",
        "dt_clf = GridSearchCV(dt, dt_params)\n",
        "dt_clf.fit(cv_train_df, y_train) "
      ]
    },
    {
      "cell_type": "markdown",
      "metadata": {
        "id": "gjrHsPMhzm-r"
      },
      "source": [
        "Random Forest fit"
      ]
    },
    {
      "cell_type": "code",
      "execution_count": null,
      "metadata": {
        "colab": {
          "base_uri": "https://localhost:8080/"
        },
        "id": "e4Zd8sgSzpEt",
        "outputId": "9c0b7bbd-f07c-49a5-d98b-87518fdbfb04"
      },
      "outputs": [
        {
          "output_type": "execute_result",
          "data": {
            "text/plain": [
              "GridSearchCV(estimator=RandomForestClassifier(),\n",
              "             param_grid={'max_depth': [5, 10], 'min_samples_leaf': [1, 2]})"
            ]
          },
          "metadata": {},
          "execution_count": 24
        }
      ],
      "source": [
        "rf_params = {\"min_samples_leaf\": [1,2], \"max_depth\": [5, 10]}\n",
        "rf = RandomForestClassifier()\n",
        "rf_clf = GridSearchCV(rf, rf_params)\n",
        "rf_clf.fit(cv_train_df, y_train)"
      ]
    },
    {
      "cell_type": "markdown",
      "metadata": {
        "id": "aBhId-q931oZ"
      },
      "source": [
        "Model Evaluation"
      ]
    },
    {
      "cell_type": "code",
      "execution_count": null,
      "metadata": {
        "colab": {
          "base_uri": "https://localhost:8080/"
        },
        "id": "i3raMgId34u3",
        "outputId": "bae1b6be-a810-424a-84d8-e25bde0d65eb"
      },
      "outputs": [
        {
          "output_type": "stream",
          "name": "stdout",
          "text": [
            "0.5730694468987454\n",
            "0.5626435766036402\n"
          ]
        }
      ],
      "source": [
        "dt_pred = dt_clf.predict(cv_test_df)\n",
        "rf_pred = rf_clf.predict(cv_test_df)\n",
        "\n",
        "print(f1_score(y_test, dt_pred, average= 'micro'))\n",
        "print(f1_score(y_test, rf_pred, average= 'micro'))"
      ]
    },
    {
      "cell_type": "code",
      "source": [
        "train_pred_dt = dt_clf.predict(cv_train_df)\n",
        "\n",
        "print(f1_score(train_pred_dt, y_train, average= 'micro'))\n",
        "#Not overfitting"
      ],
      "metadata": {
        "colab": {
          "base_uri": "https://localhost:8080/"
        },
        "id": "YObOfPauBizx",
        "outputId": "d2c0664a-9609-479e-dd1d-2ad6bb8b4472"
      },
      "execution_count": null,
      "outputs": [
        {
          "output_type": "stream",
          "name": "stdout",
          "text": [
            "0.5950515463917526\n"
          ]
        }
      ]
    },
    {
      "cell_type": "code",
      "source": [
        "print(dt_clf.best_params_)\n",
        "print(rf_clf.best_params_)"
      ],
      "metadata": {
        "colab": {
          "base_uri": "https://localhost:8080/"
        },
        "id": "2JJqnBPqswf9",
        "outputId": "224765e1-2cd0-46d4-b1c3-c4d8bf4844d1"
      },
      "execution_count": null,
      "outputs": [
        {
          "output_type": "stream",
          "name": "stdout",
          "text": [
            "{'max_depth': 10, 'min_samples_leaf': 1}\n",
            "{'max_depth': 10, 'min_samples_leaf': 1}\n"
          ]
        }
      ]
    },
    {
      "cell_type": "code",
      "source": [
        "print('Accuracy')\n",
        "print(metrics.accuracy_score(y_test, dt_pred))\n",
        "print(metrics.accuracy_score(y_test, rf_pred))\n",
        "print('MSE')\n",
        "print(metrics.mean_squared_error(y_test, dt_pred))\n",
        "print(metrics.mean_squared_error(y_test, rf_pred))\n"
      ],
      "metadata": {
        "colab": {
          "base_uri": "https://localhost:8080/"
        },
        "id": "cvdJjI0kl_AZ",
        "outputId": "9b959d00-6351-4ab0-9ad8-4c93d06ae45b"
      },
      "execution_count": null,
      "outputs": [
        {
          "output_type": "stream",
          "name": "stdout",
          "text": [
            "Accuracy\n",
            "0.5730694468987454\n",
            "0.5626435766036402\n",
            "MSE\n",
            "1.51669906343877\n",
            "1.8609294928432585\n"
          ]
        }
      ]
    },
    {
      "cell_type": "markdown",
      "source": [
        "Tree Model\n",
        "\n"
      ],
      "metadata": {
        "id": "cwGcQfWJmqF0"
      }
    },
    {
      "cell_type": "code",
      "source": [
        "plot_tree(dt_clf.best_estimator_)"
      ],
      "metadata": {
        "colab": {
          "base_uri": "https://localhost:8080/",
          "height": 1000
        },
        "id": "08-XNkLWmyYA",
        "outputId": "a748c717-25c6-4a13-c41c-7f193d58537b"
      },
      "execution_count": null,
      "outputs": [
        {
          "output_type": "execute_result",
          "data": {
            "text/plain": [
              "[Text(0.7223507695507487, 0.9545454545454546, 'X[2505] <= 0.5\\ngini = 0.627\\nsamples = 16975\\nvalue = [625, 1165, 2139, 3696, 9350]'),\n",
              " Text(0.5119072379367721, 0.8636363636363636, 'X[2120] <= 0.5\\ngini = 0.658\\nsamples = 14453\\nvalue = [598, 1111, 2043, 3306, 7395]'),\n",
              " Text(0.3411501663893511, 0.7727272727272727, 'X[844] <= 0.5\\ngini = 0.701\\nsamples = 9867\\nvalue = [529, 891, 1599, 2413, 4435]'),\n",
              " Text(0.23710482529118138, 0.6818181818181818, 'X[2507] <= 0.5\\ngini = 0.718\\nsamples = 8649\\nvalue = [517, 853, 1500, 2134, 3645]'),\n",
              " Text(0.1559900166389351, 0.5909090909090909, 'X[1643] <= 0.5\\ngini = 0.728\\nsamples = 8146\\nvalue = [512, 837, 1466, 2056, 3275]'),\n",
              " Text(0.08777038269550749, 0.5, 'X[873] <= 0.5\\ngini = 0.747\\nsamples = 6395\\nvalue = [460, 751, 1267, 1585, 2332]'),\n",
              " Text(0.0524126455906822, 0.4090909090909091, 'X[1123] <= 0.5\\ngini = 0.752\\nsamples = 6210\\nvalue = [457, 749, 1263, 1548, 2193]'),\n",
              " Text(0.026622296173044926, 0.3181818181818182, 'X[2877] <= 0.5\\ngini = 0.745\\nsamples = 5959\\nvalue = [398, 679, 1195, 1524, 2163]'),\n",
              " Text(0.013311148086522463, 0.22727272727272727, 'X[2097] <= 0.5\\ngini = 0.739\\nsamples = 5725\\nvalue = [353, 632, 1109, 1490, 2141]'),\n",
              " Text(0.0066555740432612314, 0.13636363636363635, 'X[1446] <= 0.5\\ngini = 0.73\\nsamples = 5330\\nvalue = [310, 539, 991, 1419, 2071]'),\n",
              " Text(0.0033277870216306157, 0.045454545454545456, 'gini = 0.74\\nsamples = 4586\\nvalue = [289, 478, 896, 1254, 1669]'),\n",
              " Text(0.009983361064891847, 0.045454545454545456, 'gini = 0.635\\nsamples = 744\\nvalue = [21, 61, 95, 165, 402]'),\n",
              " Text(0.019966722129783693, 0.13636363636363635, 'X[2082] <= 0.5\\ngini = 0.78\\nsamples = 395\\nvalue = [43, 93, 118, 71, 70]'),\n",
              " Text(0.016638935108153077, 0.045454545454545456, 'gini = 0.779\\nsamples = 354\\nvalue = [42, 91, 104, 56, 61]'),\n",
              " Text(0.02329450915141431, 0.045454545454545456, 'gini = 0.698\\nsamples = 41\\nvalue = [1, 2, 14, 15, 9]'),\n",
              " Text(0.03993344425956739, 0.22727272727272727, 'X[2100] <= 0.5\\ngini = 0.758\\nsamples = 234\\nvalue = [45, 47, 86, 34, 22]'),\n",
              " Text(0.033277870216306155, 0.13636363636363635, 'X[3554] <= 0.5\\ngini = 0.748\\nsamples = 203\\nvalue = [31, 41, 80, 31, 20]'),\n",
              " Text(0.029950083194675542, 0.045454545454545456, 'gini = 0.743\\nsamples = 199\\nvalue = [27, 41, 80, 31, 20]'),\n",
              " Text(0.036605657237936774, 0.045454545454545456, 'gini = 0.0\\nsamples = 4\\nvalue = [4, 0, 0, 0, 0]'),\n",
              " Text(0.04658901830282862, 0.13636363636363635, 'X[457] <= 0.5\\ngini = 0.708\\nsamples = 31\\nvalue = [14, 6, 6, 3, 2]'),\n",
              " Text(0.04326123128119801, 0.045454545454545456, 'gini = 0.676\\nsamples = 28\\nvalue = [14, 6, 3, 3, 2]'),\n",
              " Text(0.04991680532445923, 0.045454545454545456, 'gini = 0.0\\nsamples = 3\\nvalue = [0, 0, 3, 0, 0]'),\n",
              " Text(0.07820299500831947, 0.3181818181818182, 'X[1027] <= 0.5\\ngini = 0.77\\nsamples = 251\\nvalue = [59, 70, 68, 24, 30]'),\n",
              " Text(0.06655574043261231, 0.22727272727272727, 'X[1757] <= 0.5\\ngini = 0.772\\nsamples = 242\\nvalue = [58, 63, 68, 24, 29]'),\n",
              " Text(0.059900166389351084, 0.13636363636363635, 'X[1312] <= 0.5\\ngini = 0.773\\nsamples = 236\\nvalue = [57, 58, 68, 24, 29]'),\n",
              " Text(0.056572379367720464, 0.045454545454545456, 'gini = 0.779\\nsamples = 203\\nvalue = [43, 54, 55, 23, 28]'),\n",
              " Text(0.0632279534109817, 0.045454545454545456, 'gini = 0.648\\nsamples = 33\\nvalue = [14, 4, 13, 1, 1]'),\n",
              " Text(0.07321131447587355, 0.13636363636363635, 'X[1721] <= 0.5\\ngini = 0.278\\nsamples = 6\\nvalue = [1, 5, 0, 0, 0]'),\n",
              " Text(0.06988352745424292, 0.045454545454545456, 'gini = 0.0\\nsamples = 5\\nvalue = [0, 5, 0, 0, 0]'),\n",
              " Text(0.07653910149750416, 0.045454545454545456, 'gini = 0.0\\nsamples = 1\\nvalue = [1, 0, 0, 0, 0]'),\n",
              " Text(0.08985024958402663, 0.22727272727272727, 'X[2826] <= 0.5\\ngini = 0.37\\nsamples = 9\\nvalue = [1, 7, 0, 0, 1]'),\n",
              " Text(0.08652246256239601, 0.13636363636363635, 'X[2002] <= 0.5\\ngini = 0.219\\nsamples = 8\\nvalue = [1, 7, 0, 0, 0]'),\n",
              " Text(0.08319467554076539, 0.045454545454545456, 'gini = 0.0\\nsamples = 7\\nvalue = [0, 7, 0, 0, 0]'),\n",
              " Text(0.08985024958402663, 0.045454545454545456, 'gini = 0.0\\nsamples = 1\\nvalue = [1, 0, 0, 0, 0]'),\n",
              " Text(0.09317803660565724, 0.13636363636363635, 'gini = 0.0\\nsamples = 1\\nvalue = [0, 0, 0, 0, 1]'),\n",
              " Text(0.12312811980033278, 0.4090909090909091, 'X[1003] <= 0.5\\ngini = 0.395\\nsamples = 185\\nvalue = [3, 2, 4, 37, 139]'),\n",
              " Text(0.10981697171381032, 0.3181818181818182, 'X[3383] <= 0.5\\ngini = 0.343\\nsamples = 160\\nvalue = [3, 2, 2, 26, 127]'),\n",
              " Text(0.1064891846921797, 0.22727272727272727, 'X[3137] <= 0.5\\ngini = 0.324\\nsamples = 157\\nvalue = [3, 2, 2, 23, 127]'),\n",
              " Text(0.09983361064891846, 0.13636363636363635, 'X[3988] <= 0.5\\ngini = 0.299\\nsamples = 154\\nvalue = [1, 2, 2, 22, 127]'),\n",
              " Text(0.09650582362728785, 0.045454545454545456, 'gini = 0.278\\nsamples = 150\\nvalue = [1, 2, 2, 19, 126]'),\n",
              " Text(0.10316139767054909, 0.045454545454545456, 'gini = 0.375\\nsamples = 4\\nvalue = [0, 0, 0, 3, 1]'),\n",
              " Text(0.11314475873544093, 0.13636363636363635, 'X[3980] <= 0.5\\ngini = 0.444\\nsamples = 3\\nvalue = [2, 0, 0, 1, 0]'),\n",
              " Text(0.10981697171381032, 0.045454545454545456, 'gini = 0.0\\nsamples = 1\\nvalue = [0, 0, 0, 1, 0]'),\n",
              " Text(0.11647254575707154, 0.045454545454545456, 'gini = 0.0\\nsamples = 2\\nvalue = [2, 0, 0, 0, 0]'),\n",
              " Text(0.11314475873544093, 0.22727272727272727, 'gini = 0.0\\nsamples = 3\\nvalue = [0, 0, 0, 3, 0]'),\n",
              " Text(0.13643926788685523, 0.3181818181818182, 'X[2062] <= 0.5\\ngini = 0.57\\nsamples = 25\\nvalue = [0, 0, 2, 11, 12]'),\n",
              " Text(0.13311148086522462, 0.22727272727272727, 'X[1446] <= 0.5\\ngini = 0.553\\nsamples = 21\\nvalue = [0, 0, 2, 7, 12]'),\n",
              " Text(0.1264559068219634, 0.13636363636363635, 'X[2448] <= 0.5\\ngini = 0.475\\nsamples = 18\\nvalue = [0, 0, 0, 7, 11]'),\n",
              " Text(0.12312811980033278, 0.045454545454545456, 'gini = 0.43\\nsamples = 16\\nvalue = [0, 0, 0, 5, 11]'),\n",
              " Text(0.129783693843594, 0.045454545454545456, 'gini = 0.0\\nsamples = 2\\nvalue = [0, 0, 0, 2, 0]'),\n",
              " Text(0.13976705490848584, 0.13636363636363635, 'X[831] <= 0.5\\ngini = 0.444\\nsamples = 3\\nvalue = [0, 0, 2, 0, 1]'),\n",
              " Text(0.13643926788685523, 0.045454545454545456, 'gini = 0.0\\nsamples = 2\\nvalue = [0, 0, 2, 0, 0]'),\n",
              " Text(0.14309484193011648, 0.045454545454545456, 'gini = 0.0\\nsamples = 1\\nvalue = [0, 0, 0, 0, 1]'),\n",
              " Text(0.13976705490848584, 0.22727272727272727, 'gini = 0.0\\nsamples = 4\\nvalue = [0, 0, 0, 4, 0]'),\n",
              " Text(0.22420965058236272, 0.5, 'X[2876] <= 0.5\\ngini = 0.621\\nsamples = 1751\\nvalue = [52, 86, 199, 471, 943]'),\n",
              " Text(0.19217970049916805, 0.4090909090909091, 'X[3765] <= 0.5\\ngini = 0.61\\nsamples = 1705\\nvalue = [46, 83, 180, 456, 940]'),\n",
              " Text(0.1713810316139767, 0.3181818181818182, 'X[1343] <= 1.5\\ngini = 0.6\\nsamples = 1662\\nvalue = [43, 74, 167, 443, 935]'),\n",
              " Text(0.15973377703826955, 0.22727272727272727, 'X[2667] <= 0.5\\ngini = 0.589\\nsamples = 1609\\nvalue = [40, 66, 157, 421, 925]'),\n",
              " Text(0.15307820299500832, 0.13636363636363635, 'X[846] <= 0.5\\ngini = 0.574\\nsamples = 1490\\nvalue = [36, 59, 133, 379, 883]'),\n",
              " Text(0.1497504159733777, 0.045454545454545456, 'gini = 0.587\\nsamples = 1413\\nvalue = [36, 59, 131, 371, 816]'),\n",
              " Text(0.15640599001663893, 0.045454545454545456, 'gini = 0.231\\nsamples = 77\\nvalue = [0, 0, 2, 8, 67]'),\n",
              " Text(0.16638935108153077, 0.13636363636363635, 'X[3990] <= 0.5\\ngini = 0.706\\nsamples = 119\\nvalue = [4, 7, 24, 42, 42]'),\n",
              " Text(0.16306156405990016, 0.045454545454545456, 'gini = 0.71\\nsamples = 113\\nvalue = [4, 7, 24, 36, 42]'),\n",
              " Text(0.16971713810316139, 0.045454545454545456, 'gini = 0.0\\nsamples = 6\\nvalue = [0, 0, 0, 6, 0]'),\n",
              " Text(0.18302828618968386, 0.22727272727272727, 'X[3988] <= 0.5\\ngini = 0.731\\nsamples = 53\\nvalue = [3, 8, 10, 22, 10]'),\n",
              " Text(0.17970049916805325, 0.13636363636363635, 'X[3248] <= 0.5\\ngini = 0.718\\nsamples = 50\\nvalue = [3, 8, 7, 22, 10]'),\n",
              " Text(0.17637271214642264, 0.045454545454545456, 'gini = 0.693\\nsamples = 42\\nvalue = [2, 8, 7, 20, 5]'),\n",
              " Text(0.18302828618968386, 0.045454545454545456, 'gini = 0.531\\nsamples = 8\\nvalue = [1, 0, 0, 2, 5]'),\n",
              " Text(0.18635607321131448, 0.13636363636363635, 'gini = 0.0\\nsamples = 3\\nvalue = [0, 0, 3, 0, 0]'),\n",
              " Text(0.2129783693843594, 0.3181818181818182, 'X[3100] <= 0.5\\ngini = 0.755\\nsamples = 43\\nvalue = [3, 9, 13, 13, 5]'),\n",
              " Text(0.19966722129783693, 0.22727272727272727, 'X[1993] <= 0.5\\ngini = 0.715\\nsamples = 35\\nvalue = [2, 4, 12, 13, 4]'),\n",
              " Text(0.1930116472545757, 0.13636363636363635, 'X[3981] <= 0.5\\ngini = 0.717\\nsamples = 28\\nvalue = [2, 3, 12, 7, 4]'),\n",
              " Text(0.1896838602329451, 0.045454545454545456, 'gini = 0.632\\nsamples = 22\\nvalue = [2, 1, 12, 5, 2]'),\n",
              " Text(0.19633943427620631, 0.045454545454545456, 'gini = 0.667\\nsamples = 6\\nvalue = [0, 2, 0, 2, 2]'),\n",
              " Text(0.20632279534109818, 0.13636363636363635, 'X[3167] <= 1.5\\ngini = 0.245\\nsamples = 7\\nvalue = [0, 1, 0, 6, 0]'),\n",
              " Text(0.20299500831946754, 0.045454545454545456, 'gini = 0.0\\nsamples = 6\\nvalue = [0, 0, 0, 6, 0]'),\n",
              " Text(0.2096505823627288, 0.045454545454545456, 'gini = 0.0\\nsamples = 1\\nvalue = [0, 1, 0, 0, 0]'),\n",
              " Text(0.22628951747088186, 0.22727272727272727, 'X[1626] <= 0.5\\ngini = 0.562\\nsamples = 8\\nvalue = [1, 5, 1, 0, 1]'),\n",
              " Text(0.21963394342762063, 0.13636363636363635, 'X[3862] <= 0.5\\ngini = 0.278\\nsamples = 6\\nvalue = [1, 5, 0, 0, 0]'),\n",
              " Text(0.21630615640599002, 0.045454545454545456, 'gini = 0.0\\nsamples = 5\\nvalue = [0, 5, 0, 0, 0]'),\n",
              " Text(0.22296173044925124, 0.045454545454545456, 'gini = 0.0\\nsamples = 1\\nvalue = [1, 0, 0, 0, 0]'),\n",
              " Text(0.23294509151414308, 0.13636363636363635, 'X[63] <= 0.5\\ngini = 0.5\\nsamples = 2\\nvalue = [0, 0, 1, 0, 1]'),\n",
              " Text(0.22961730449251247, 0.045454545454545456, 'gini = 0.0\\nsamples = 1\\nvalue = [0, 0, 1, 0, 0]'),\n",
              " Text(0.23627287853577372, 0.045454545454545456, 'gini = 0.0\\nsamples = 1\\nvalue = [0, 0, 0, 0, 1]'),\n",
              " Text(0.2562396006655574, 0.4090909090909091, 'X[2071] <= 0.5\\ngini = 0.698\\nsamples = 46\\nvalue = [6, 3, 19, 15, 3]'),\n",
              " Text(0.2529118136439268, 0.3181818181818182, 'X[3866] <= 0.5\\ngini = 0.674\\nsamples = 44\\nvalue = [6, 1, 19, 15, 3]'),\n",
              " Text(0.24958402662229617, 0.22727272727272727, 'X[1665] <= 0.5\\ngini = 0.653\\nsamples = 42\\nvalue = [4, 1, 19, 15, 3]'),\n",
              " Text(0.24625623960066556, 0.13636363636363635, 'X[3169] <= 0.5\\ngini = 0.625\\nsamples = 40\\nvalue = [2, 1, 19, 15, 3]'),\n",
              " Text(0.24292845257903495, 0.045454545454545456, 'gini = 0.621\\nsamples = 37\\nvalue = [2, 1, 19, 12, 3]'),\n",
              " Text(0.24958402662229617, 0.045454545454545456, 'gini = 0.0\\nsamples = 3\\nvalue = [0, 0, 0, 3, 0]'),\n",
              " Text(0.2529118136439268, 0.13636363636363635, 'gini = 0.0\\nsamples = 2\\nvalue = [2, 0, 0, 0, 0]'),\n",
              " Text(0.2562396006655574, 0.22727272727272727, 'gini = 0.0\\nsamples = 2\\nvalue = [2, 0, 0, 0, 0]'),\n",
              " Text(0.259567387687188, 0.3181818181818182, 'gini = 0.0\\nsamples = 2\\nvalue = [0, 2, 0, 0, 0]'),\n",
              " Text(0.3182196339434276, 0.5909090909090909, 'X[1783] <= 0.5\\ngini = 0.429\\nsamples = 503\\nvalue = [5, 16, 34, 78, 370]'),\n",
              " Text(0.29700499168053246, 0.5, 'X[1123] <= 0.5\\ngini = 0.416\\nsamples = 493\\nvalue = [5, 16, 32, 72, 368]'),\n",
              " Text(0.281198003327787, 0.4090909090909091, 'X[2961] <= 0.5\\ngini = 0.399\\nsamples = 481\\nvalue = [5, 13, 28, 70, 365]'),\n",
              " Text(0.2778702163061564, 0.3181818181818182, 'X[3124] <= 0.5\\ngini = 0.392\\nsamples = 478\\nvalue = [5, 13, 25, 70, 365]'),\n",
              " Text(0.26622296173044924, 0.22727272727272727, 'X[1662] <= 0.5\\ngini = 0.362\\nsamples = 447\\nvalue = [4, 11, 21, 60, 351]'),\n",
              " Text(0.259567387687188, 0.13636363636363635, 'X[1782] <= 0.5\\ngini = 0.35\\nsamples = 441\\nvalue = [4, 9, 19, 59, 350]'),\n",
              " Text(0.2562396006655574, 0.045454545454545456, 'gini = 0.341\\nsamples = 438\\nvalue = [4, 7, 18, 59, 350]'),\n",
              " Text(0.2628951747088186, 0.045454545454545456, 'gini = 0.444\\nsamples = 3\\nvalue = [0, 2, 1, 0, 0]'),\n",
              " Text(0.27287853577371046, 0.13636363636363635, 'X[1643] <= 0.5\\ngini = 0.722\\nsamples = 6\\nvalue = [0, 2, 2, 1, 1]'),\n",
              " Text(0.26955074875207985, 0.045454545454545456, 'gini = 0.625\\nsamples = 4\\nvalue = [0, 2, 0, 1, 1]'),\n",
              " Text(0.2762063227953411, 0.045454545454545456, 'gini = 0.0\\nsamples = 2\\nvalue = [0, 0, 2, 0, 0]'),\n",
              " Text(0.2895174708818636, 0.22727272727272727, 'X[1357] <= 0.5\\ngini = 0.67\\nsamples = 31\\nvalue = [1, 2, 4, 10, 14]'),\n",
              " Text(0.28618968386023297, 0.13636363636363635, 'X[3897] <= 0.5\\ngini = 0.637\\nsamples = 29\\nvalue = [1, 2, 2, 10, 14]'),\n",
              " Text(0.28286189683860236, 0.045454545454545456, 'gini = 0.685\\nsamples = 21\\nvalue = [1, 2, 2, 9, 7]'),\n",
              " Text(0.2895174708818636, 0.045454545454545456, 'gini = 0.219\\nsamples = 8\\nvalue = [0, 0, 0, 1, 7]'),\n",
              " Text(0.2928452579034942, 0.13636363636363635, 'gini = 0.0\\nsamples = 2\\nvalue = [0, 0, 2, 0, 0]'),\n",
              " Text(0.28452579034941766, 0.3181818181818182, 'gini = 0.0\\nsamples = 3\\nvalue = [0, 0, 3, 0, 0]'),\n",
              " Text(0.31281198003327787, 0.4090909090909091, 'X[2096] <= 0.5\\ngini = 0.736\\nsamples = 12\\nvalue = [0, 3, 4, 2, 3]'),\n",
              " Text(0.30948419301164726, 0.3181818181818182, 'X[2206] <= 0.5\\ngini = 0.66\\nsamples = 10\\nvalue = [0, 3, 4, 0, 3]'),\n",
              " Text(0.30282861896838603, 0.22727272727272727, 'X[1187] <= 1.0\\ngini = 0.5\\nsamples = 6\\nvalue = [0, 3, 3, 0, 0]'),\n",
              " Text(0.2995008319467554, 0.13636363636363635, 'X[2404] <= 0.5\\ngini = 0.375\\nsamples = 4\\nvalue = [0, 1, 3, 0, 0]'),\n",
              " Text(0.2961730449251248, 0.045454545454545456, 'gini = 0.0\\nsamples = 3\\nvalue = [0, 0, 3, 0, 0]'),\n",
              " Text(0.30282861896838603, 0.045454545454545456, 'gini = 0.0\\nsamples = 1\\nvalue = [0, 1, 0, 0, 0]'),\n",
              " Text(0.30615640599001664, 0.13636363636363635, 'gini = 0.0\\nsamples = 2\\nvalue = [0, 2, 0, 0, 0]'),\n",
              " Text(0.3161397670549085, 0.22727272727272727, 'X[537] <= 0.5\\ngini = 0.375\\nsamples = 4\\nvalue = [0, 0, 1, 0, 3]'),\n",
              " Text(0.31281198003327787, 0.13636363636363635, 'gini = 0.0\\nsamples = 3\\nvalue = [0, 0, 0, 0, 3]'),\n",
              " Text(0.3194675540765391, 0.13636363636363635, 'gini = 0.0\\nsamples = 1\\nvalue = [0, 0, 1, 0, 0]'),\n",
              " Text(0.3161397670549085, 0.3181818181818182, 'gini = 0.0\\nsamples = 2\\nvalue = [0, 0, 0, 2, 0]'),\n",
              " Text(0.33943427620632277, 0.5, 'X[457] <= 0.5\\ngini = 0.56\\nsamples = 10\\nvalue = [0, 0, 2, 6, 2]'),\n",
              " Text(0.33610648918469216, 0.4090909090909091, 'X[2793] <= 0.5\\ngini = 0.667\\nsamples = 6\\nvalue = [0, 0, 2, 2, 2]'),\n",
              " Text(0.33277870216306155, 0.3181818181818182, 'X[2314] <= 0.5\\ngini = 0.5\\nsamples = 4\\nvalue = [0, 0, 0, 2, 2]'),\n",
              " Text(0.32945091514143093, 0.22727272727272727, 'X[1309] <= 0.5\\ngini = 0.444\\nsamples = 3\\nvalue = [0, 0, 0, 1, 2]'),\n",
              " Text(0.3261231281198003, 0.13636363636363635, 'gini = 0.0\\nsamples = 2\\nvalue = [0, 0, 0, 0, 2]'),\n",
              " Text(0.33277870216306155, 0.13636363636363635, 'gini = 0.0\\nsamples = 1\\nvalue = [0, 0, 0, 1, 0]'),\n",
              " Text(0.33610648918469216, 0.22727272727272727, 'gini = 0.0\\nsamples = 1\\nvalue = [0, 0, 0, 1, 0]'),\n",
              " Text(0.33943427620632277, 0.3181818181818182, 'gini = 0.0\\nsamples = 2\\nvalue = [0, 0, 2, 0, 0]'),\n",
              " Text(0.3427620632279534, 0.4090909090909091, 'gini = 0.0\\nsamples = 4\\nvalue = [0, 0, 0, 4, 0]'),\n",
              " Text(0.4451955074875208, 0.6818181818181818, 'X[2876] <= 0.5\\ngini = 0.519\\nsamples = 1218\\nvalue = [12, 38, 99, 279, 790]'),\n",
              " Text(0.4195091514143095, 0.5909090909090909, 'X[2878] <= 0.5\\ngini = 0.507\\nsamples = 1193\\nvalue = [10, 33, 95, 268, 787]'),\n",
              " Text(0.39309484193011646, 0.5, 'X[1320] <= 0.5\\ngini = 0.501\\nsamples = 1184\\nvalue = [10, 30, 90, 267, 787]'),\n",
              " Text(0.3718801996672213, 0.4090909090909091, 'X[873] <= 0.5\\ngini = 0.493\\nsamples = 1162\\nvalue = [10, 29, 86, 255, 782]'),\n",
              " Text(0.3577371048252912, 0.3181818181818182, 'X[1662] <= 0.5\\ngini = 0.51\\nsamples = 1088\\nvalue = [10, 29, 86, 249, 714]'),\n",
              " Text(0.34608985024958405, 0.22727272727272727, 'X[2877] <= 0.5\\ngini = 0.504\\nsamples = 1076\\nvalue = [10, 29, 83, 241, 713]'),\n",
              " Text(0.33943427620632277, 0.13636363636363635, 'X[2063] <= 0.5\\ngini = 0.496\\nsamples = 1064\\nvalue = [10, 27, 76, 239, 712]'),\n",
              " Text(0.33610648918469216, 0.045454545454545456, 'gini = 0.486\\nsamples = 1035\\nvalue = [9, 26, 73, 224, 703]'),\n",
              " Text(0.3427620632279534, 0.045454545454545456, 'gini = 0.623\\nsamples = 29\\nvalue = [1, 1, 3, 15, 9]'),\n",
              " Text(0.3527454242928453, 0.13636363636363635, 'X[1936] <= 0.5\\ngini = 0.597\\nsamples = 12\\nvalue = [0, 2, 7, 2, 1]'),\n",
              " Text(0.34941763727121466, 0.045454545454545456, 'gini = 0.46\\nsamples = 10\\nvalue = [0, 0, 7, 2, 1]'),\n",
              " Text(0.3560732113144759, 0.045454545454545456, 'gini = 0.0\\nsamples = 2\\nvalue = [0, 2, 0, 0, 0]'),\n",
              " Text(0.36938435940099834, 0.22727272727272727, 'X[2378] <= 0.5\\ngini = 0.486\\nsamples = 12\\nvalue = [0, 0, 3, 8, 1]'),\n",
              " Text(0.36605657237936773, 0.13636363636363635, 'X[539] <= 0.5\\ngini = 0.34\\nsamples = 10\\nvalue = [0, 0, 1, 8, 1]'),\n",
              " Text(0.3627287853577371, 0.045454545454545456, 'gini = 0.0\\nsamples = 8\\nvalue = [0, 0, 0, 8, 0]'),\n",
              " Text(0.36938435940099834, 0.045454545454545456, 'gini = 0.5\\nsamples = 2\\nvalue = [0, 0, 1, 0, 1]'),\n",
              " Text(0.37271214642262895, 0.13636363636363635, 'gini = 0.0\\nsamples = 2\\nvalue = [0, 0, 2, 0, 0]'),\n",
              " Text(0.3860232945091514, 0.3181818181818182, 'X[808] <= 0.5\\ngini = 0.149\\nsamples = 74\\nvalue = [0, 0, 0, 6, 68]'),\n",
              " Text(0.3826955074875208, 0.22727272727272727, 'X[1317] <= 0.5\\ngini = 0.128\\nsamples = 73\\nvalue = [0, 0, 0, 5, 68]'),\n",
              " Text(0.3793677204658902, 0.13636363636363635, 'X[2398] <= 0.5\\ngini = 0.105\\nsamples = 72\\nvalue = [0, 0, 0, 4, 68]'),\n",
              " Text(0.37603993344425957, 0.045454545454545456, 'gini = 0.081\\nsamples = 71\\nvalue = [0, 0, 0, 3, 68]'),\n",
              " Text(0.3826955074875208, 0.045454545454545456, 'gini = 0.0\\nsamples = 1\\nvalue = [0, 0, 0, 1, 0]'),\n",
              " Text(0.3860232945091514, 0.13636363636363635, 'gini = 0.0\\nsamples = 1\\nvalue = [0, 0, 0, 1, 0]'),\n",
              " Text(0.389351081530782, 0.22727272727272727, 'gini = 0.0\\nsamples = 1\\nvalue = [0, 0, 0, 1, 0]'),\n",
              " Text(0.41430948419301167, 0.4090909090909091, 'X[1936] <= 0.5\\ngini = 0.616\\nsamples = 22\\nvalue = [0, 1, 4, 12, 5]'),\n",
              " Text(0.40266222961730447, 0.3181818181818182, 'X[2092] <= 0.5\\ngini = 0.457\\nsamples = 17\\nvalue = [0, 0, 2, 12, 3]'),\n",
              " Text(0.39600665557404324, 0.22727272727272727, 'X[645] <= 0.5\\ngini = 0.272\\nsamples = 13\\nvalue = [0, 0, 1, 11, 1]'),\n",
              " Text(0.39267886855241263, 0.13636363636363635, 'X[3865] <= 0.5\\ngini = 0.153\\nsamples = 12\\nvalue = [0, 0, 1, 11, 0]'),\n",
              " Text(0.389351081530782, 0.045454545454545456, 'gini = 0.0\\nsamples = 11\\nvalue = [0, 0, 0, 11, 0]'),\n",
              " Text(0.39600665557404324, 0.045454545454545456, 'gini = 0.0\\nsamples = 1\\nvalue = [0, 0, 1, 0, 0]'),\n",
              " Text(0.39933444259567386, 0.13636363636363635, 'gini = 0.0\\nsamples = 1\\nvalue = [0, 0, 0, 0, 1]'),\n",
              " Text(0.40931780366056575, 0.22727272727272727, 'X[2756] <= 0.5\\ngini = 0.625\\nsamples = 4\\nvalue = [0, 0, 1, 1, 2]'),\n",
              " Text(0.4059900166389351, 0.13636363636363635, 'gini = 0.0\\nsamples = 2\\nvalue = [0, 0, 0, 0, 2]'),\n",
              " Text(0.41264559068219636, 0.13636363636363635, 'X[2040] <= 0.5\\ngini = 0.5\\nsamples = 2\\nvalue = [0, 0, 1, 1, 0]'),\n",
              " Text(0.40931780366056575, 0.045454545454545456, 'gini = 0.0\\nsamples = 1\\nvalue = [0, 0, 1, 0, 0]'),\n",
              " Text(0.415973377703827, 0.045454545454545456, 'gini = 0.0\\nsamples = 1\\nvalue = [0, 0, 0, 1, 0]'),\n",
              " Text(0.4259567387687188, 0.3181818181818182, 'X[2460] <= 0.5\\ngini = 0.64\\nsamples = 5\\nvalue = [0, 1, 2, 0, 2]'),\n",
              " Text(0.4226289517470882, 0.22727272727272727, 'X[2906] <= 0.5\\ngini = 0.444\\nsamples = 3\\nvalue = [0, 1, 2, 0, 0]'),\n",
              " Text(0.4193011647254576, 0.13636363636363635, 'gini = 0.0\\nsamples = 2\\nvalue = [0, 0, 2, 0, 0]'),\n",
              " Text(0.4259567387687188, 0.13636363636363635, 'gini = 0.0\\nsamples = 1\\nvalue = [0, 1, 0, 0, 0]'),\n",
              " Text(0.4292845257903494, 0.22727272727272727, 'gini = 0.0\\nsamples = 2\\nvalue = [0, 0, 0, 0, 2]'),\n",
              " Text(0.4459234608985025, 0.5, 'X[3475] <= 0.5\\ngini = 0.568\\nsamples = 9\\nvalue = [0, 3, 5, 1, 0]'),\n",
              " Text(0.4425956738768719, 0.4090909090909091, 'X[1123] <= 0.5\\ngini = 0.449\\nsamples = 7\\nvalue = [0, 1, 5, 1, 0]'),\n",
              " Text(0.43926788685524126, 0.3181818181818182, 'X[1078] <= 0.5\\ngini = 0.278\\nsamples = 6\\nvalue = [0, 0, 5, 1, 0]'),\n",
              " Text(0.43594009983361065, 0.22727272727272727, 'gini = 0.0\\nsamples = 5\\nvalue = [0, 0, 5, 0, 0]'),\n",
              " Text(0.4425956738768719, 0.22727272727272727, 'gini = 0.0\\nsamples = 1\\nvalue = [0, 0, 0, 1, 0]'),\n",
              " Text(0.4459234608985025, 0.3181818181818182, 'gini = 0.0\\nsamples = 1\\nvalue = [0, 1, 0, 0, 0]'),\n",
              " Text(0.4492512479201331, 0.4090909090909091, 'gini = 0.0\\nsamples = 2\\nvalue = [0, 2, 0, 0, 0]'),\n",
              " Text(0.47088186356073214, 0.5909090909090909, 'X[1343] <= 0.5\\ngini = 0.72\\nsamples = 25\\nvalue = [2, 5, 4, 11, 3]'),\n",
              " Text(0.46256239600665555, 0.5, 'X[3111] <= 0.5\\ngini = 0.615\\nsamples = 20\\nvalue = [0, 5, 2, 11, 2]'),\n",
              " Text(0.45923460898502494, 0.4090909090909091, 'X[463] <= 0.5\\ngini = 0.537\\nsamples = 18\\nvalue = [0, 5, 0, 11, 2]'),\n",
              " Text(0.4525790349417637, 0.3181818181818182, 'X[2327] <= 0.5\\ngini = 0.444\\nsamples = 15\\nvalue = [0, 5, 0, 10, 0]'),\n",
              " Text(0.4492512479201331, 0.22727272727272727, 'X[3804] <= 0.5\\ngini = 0.496\\nsamples = 11\\nvalue = [0, 5, 0, 6, 0]'),\n",
              " Text(0.4459234608985025, 0.13636363636363635, 'X[691] <= 0.5\\ngini = 0.408\\nsamples = 7\\nvalue = [0, 5, 0, 2, 0]'),\n",
              " Text(0.4425956738768719, 0.045454545454545456, 'gini = 0.278\\nsamples = 6\\nvalue = [0, 5, 0, 1, 0]'),\n",
              " Text(0.4492512479201331, 0.045454545454545456, 'gini = 0.0\\nsamples = 1\\nvalue = [0, 0, 0, 1, 0]'),\n",
              " Text(0.4525790349417637, 0.13636363636363635, 'gini = 0.0\\nsamples = 4\\nvalue = [0, 0, 0, 4, 0]'),\n",
              " Text(0.4559068219633943, 0.22727272727272727, 'gini = 0.0\\nsamples = 4\\nvalue = [0, 0, 0, 4, 0]'),\n",
              " Text(0.46589018302828616, 0.3181818181818182, 'X[100] <= 0.5\\ngini = 0.444\\nsamples = 3\\nvalue = [0, 0, 0, 1, 2]'),\n",
              " Text(0.46256239600665555, 0.22727272727272727, 'gini = 0.0\\nsamples = 2\\nvalue = [0, 0, 0, 0, 2]'),\n",
              " Text(0.46921797004991683, 0.22727272727272727, 'gini = 0.0\\nsamples = 1\\nvalue = [0, 0, 0, 1, 0]'),\n",
              " Text(0.46589018302828616, 0.4090909090909091, 'gini = 0.0\\nsamples = 2\\nvalue = [0, 0, 2, 0, 0]'),\n",
              " Text(0.47920133111480867, 0.5, 'X[3220] <= 0.5\\ngini = 0.64\\nsamples = 5\\nvalue = [2, 0, 2, 0, 1]'),\n",
              " Text(0.47587354409317806, 0.4090909090909091, 'X[526] <= 0.5\\ngini = 0.444\\nsamples = 3\\nvalue = [0, 0, 2, 0, 1]'),\n",
              " Text(0.47254575707154745, 0.3181818181818182, 'gini = 0.0\\nsamples = 2\\nvalue = [0, 0, 2, 0, 0]'),\n",
              " Text(0.47920133111480867, 0.3181818181818182, 'gini = 0.0\\nsamples = 1\\nvalue = [0, 0, 0, 0, 1]'),\n",
              " Text(0.4825291181364393, 0.4090909090909091, 'gini = 0.0\\nsamples = 2\\nvalue = [2, 0, 0, 0, 0]'),\n",
              " Text(0.682664309484193, 0.7727272727272727, 'X[3866] <= 0.5\\ngini = 0.534\\nsamples = 4586\\nvalue = [69, 220, 444, 893, 2960]'),\n",
              " Text(0.624896006655574, 0.6818181818181818, 'X[3765] <= 0.5\\ngini = 0.49\\nsamples = 4256\\nvalue = [50, 136, 328, 844, 2898]'),\n",
              " Text(0.5809068219633944, 0.5909090909090909, 'X[1123] <= 0.5\\ngini = 0.476\\nsamples = 4169\\nvalue = [44, 118, 300, 822, 2885]'),\n",
              " Text(0.5428452579034941, 0.5, 'X[2876] <= 0.5\\ngini = 0.465\\nsamples = 4099\\nvalue = [38, 105, 275, 811, 2870]'),\n",
              " Text(0.5083194675540765, 0.4090909090909091, 'X[1100] <= 0.5\\ngini = 0.454\\nsamples = 4012\\nvalue = [34, 95, 254, 781, 2848]'),\n",
              " Text(0.4875207986688852, 0.3181818181818182, 'X[2878] <= 0.5\\ngini = 0.435\\nsamples = 3762\\nvalue = [31, 78, 211, 716, 2726]'),\n",
              " Text(0.47587354409317806, 0.22727272727272727, 'X[3323] <= 0.5\\ngini = 0.428\\nsamples = 3725\\nvalue = [28, 74, 197, 708, 2718]'),\n",
              " Text(0.46921797004991683, 0.13636363636363635, 'X[862] <= 0.5\\ngini = 0.425\\nsamples = 3703\\nvalue = [28, 74, 196, 691, 2714]'),\n",
              " Text(0.46589018302828616, 0.045454545454545456, 'gini = 0.419\\nsamples = 3653\\nvalue = [28, 74, 191, 663, 2697]'),\n",
              " Text(0.47254575707154745, 0.045454545454545456, 'gini = 0.561\\nsamples = 50\\nvalue = [0, 0, 5, 28, 17]'),\n",
              " Text(0.4825291181364393, 0.13636363636363635, 'X[2747] <= 0.5\\ngini = 0.368\\nsamples = 22\\nvalue = [0, 0, 1, 17, 4]'),\n",
              " Text(0.47920133111480867, 0.045454545454545456, 'gini = 0.0\\nsamples = 15\\nvalue = [0, 0, 0, 15, 0]'),\n",
              " Text(0.4858569051580699, 0.045454545454545456, 'gini = 0.571\\nsamples = 7\\nvalue = [0, 0, 1, 2, 4]'),\n",
              " Text(0.49916805324459235, 0.22727272727272727, 'X[2951] <= 0.5\\ngini = 0.745\\nsamples = 37\\nvalue = [3, 4, 14, 8, 8]'),\n",
              " Text(0.49584026622296173, 0.13636363636363635, 'X[3100] <= 0.5\\ngini = 0.732\\nsamples = 34\\nvalue = [3, 4, 14, 8, 5]'),\n",
              " Text(0.4925124792013311, 0.045454545454545456, 'gini = 0.694\\nsamples = 29\\nvalue = [2, 4, 14, 5, 4]'),\n",
              " Text(0.49916805324459235, 0.045454545454545456, 'gini = 0.56\\nsamples = 5\\nvalue = [1, 0, 0, 3, 1]'),\n",
              " Text(0.502495840266223, 0.13636363636363635, 'gini = 0.0\\nsamples = 3\\nvalue = [0, 0, 0, 0, 3]'),\n",
              " Text(0.5291181364392679, 0.3181818181818182, 'X[2182] <= 0.5\\ngini = 0.66\\nsamples = 250\\nvalue = [3, 17, 43, 65, 122]'),\n",
              " Text(0.5158069883527454, 0.22727272727272727, 'X[1312] <= 0.5\\ngini = 0.635\\nsamples = 216\\nvalue = [3, 16, 29, 54, 114]'),\n",
              " Text(0.5091514143094842, 0.13636363636363635, 'X[430] <= 0.5\\ngini = 0.617\\nsamples = 208\\nvalue = [1, 12, 29, 53, 113]'),\n",
              " Text(0.5058236272878536, 0.045454545454545456, 'gini = 0.612\\nsamples = 204\\nvalue = [1, 12, 29, 49, 113]'),\n",
              " Text(0.5124792013311148, 0.045454545454545456, 'gini = 0.0\\nsamples = 4\\nvalue = [0, 0, 0, 4, 0]'),\n",
              " Text(0.5224625623960066, 0.13636363636363635, 'X[2097] <= 0.5\\ngini = 0.656\\nsamples = 8\\nvalue = [2, 4, 0, 1, 1]'),\n",
              " Text(0.519134775374376, 0.045454545454545456, 'gini = 0.5\\nsamples = 6\\nvalue = [0, 4, 0, 1, 1]'),\n",
              " Text(0.5257903494176372, 0.045454545454545456, 'gini = 0.0\\nsamples = 2\\nvalue = [2, 0, 0, 0, 0]'),\n",
              " Text(0.5424292845257903, 0.22727272727272727, 'X[2082] <= 0.5\\ngini = 0.67\\nsamples = 34\\nvalue = [0, 1, 14, 11, 8]'),\n",
              " Text(0.5357737104825291, 0.13636363636363635, 'X[1446] <= 0.5\\ngini = 0.595\\nsamples = 26\\nvalue = [0, 1, 13, 10, 2]'),\n",
              " Text(0.5324459234608985, 0.045454545454545456, 'gini = 0.578\\nsamples = 23\\nvalue = [0, 1, 13, 7, 2]'),\n",
              " Text(0.5391014975041597, 0.045454545454545456, 'gini = 0.0\\nsamples = 3\\nvalue = [0, 0, 0, 3, 0]'),\n",
              " Text(0.5490848585690515, 0.13636363636363635, 'X[4025] <= 1.0\\ngini = 0.406\\nsamples = 8\\nvalue = [0, 0, 1, 1, 6]'),\n",
              " Text(0.5457570715474209, 0.045454545454545456, 'gini = 0.245\\nsamples = 7\\nvalue = [0, 0, 1, 0, 6]'),\n",
              " Text(0.5524126455906821, 0.045454545454545456, 'gini = 0.0\\nsamples = 1\\nvalue = [0, 0, 0, 1, 0]'),\n",
              " Text(0.5773710482529119, 0.4090909090909091, 'X[3167] <= 0.5\\ngini = 0.744\\nsamples = 87\\nvalue = [4, 10, 21, 30, 22]'),\n",
              " Text(0.5690515806988353, 0.3181818181818182, 'X[4018] <= 0.5\\ngini = 0.759\\nsamples = 54\\nvalue = [3, 9, 17, 15, 10]'),\n",
              " Text(0.5657237936772047, 0.22727272727272727, 'X[3122] <= 0.5\\ngini = 0.743\\nsamples = 52\\nvalue = [1, 9, 17, 15, 10]'),\n",
              " Text(0.562396006655574, 0.13636363636363635, 'X[1003] <= 0.5\\ngini = 0.744\\nsamples = 49\\nvalue = [1, 9, 17, 12, 10]'),\n",
              " Text(0.5590682196339434, 0.045454545454545456, 'gini = 0.73\\nsamples = 45\\nvalue = [1, 6, 17, 11, 10]'),\n",
              " Text(0.5657237936772047, 0.045454545454545456, 'gini = 0.375\\nsamples = 4\\nvalue = [0, 3, 0, 1, 0]'),\n",
              " Text(0.5690515806988353, 0.13636363636363635, 'gini = 0.0\\nsamples = 3\\nvalue = [0, 0, 0, 3, 0]'),\n",
              " Text(0.5723793677204659, 0.22727272727272727, 'gini = 0.0\\nsamples = 2\\nvalue = [2, 0, 0, 0, 0]'),\n",
              " Text(0.5856905158069884, 0.3181818181818182, 'X[3684] <= 0.5\\ngini = 0.645\\nsamples = 33\\nvalue = [1, 1, 4, 15, 12]'),\n",
              " Text(0.5823627287853578, 0.22727272727272727, 'X[3220] <= 0.5\\ngini = 0.64\\nsamples = 30\\nvalue = [1, 1, 4, 15, 9]'),\n",
              " Text(0.5757071547420965, 0.13636363636363635, 'X[2686] <= 0.5\\ngini = 0.46\\nsamples = 19\\nvalue = [0, 0, 1, 13, 5]'),\n",
              " Text(0.5723793677204659, 0.045454545454545456, 'gini = 0.36\\nsamples = 17\\nvalue = [0, 0, 0, 13, 4]'),\n",
              " Text(0.5790349417637272, 0.045454545454545456, 'gini = 0.5\\nsamples = 2\\nvalue = [0, 0, 1, 0, 1]'),\n",
              " Text(0.589018302828619, 0.13636363636363635, 'X[3448] <= 0.5\\ngini = 0.744\\nsamples = 11\\nvalue = [1, 1, 3, 2, 4]'),\n",
              " Text(0.5856905158069884, 0.045454545454545456, 'gini = 0.667\\nsamples = 9\\nvalue = [1, 1, 3, 0, 4]'),\n",
              " Text(0.5923460898502496, 0.045454545454545456, 'gini = 0.0\\nsamples = 2\\nvalue = [0, 0, 0, 2, 0]'),\n",
              " Text(0.589018302828619, 0.22727272727272727, 'gini = 0.0\\nsamples = 3\\nvalue = [0, 0, 0, 0, 3]'),\n",
              " Text(0.6189683860232945, 0.5, 'X[1078] <= 0.5\\ngini = 0.76\\nsamples = 70\\nvalue = [6, 13, 25, 11, 15]'),\n",
              " Text(0.6156405990016639, 0.4090909090909091, 'X[3253] <= 0.5\\ngini = 0.775\\nsamples = 65\\nvalue = [6, 13, 20, 11, 15]'),\n",
              " Text(0.6123128119800333, 0.3181818181818182, 'X[367] <= 0.5\\ngini = 0.771\\nsamples = 62\\nvalue = [6, 10, 20, 11, 15]'),\n",
              " Text(0.6089850249584027, 0.22727272727272727, 'X[3990] <= 0.5\\ngini = 0.77\\nsamples = 59\\nvalue = [6, 10, 20, 11, 12]'),\n",
              " Text(0.6023294509151415, 0.13636363636363635, 'X[2076] <= 0.5\\ngini = 0.755\\nsamples = 55\\nvalue = [4, 10, 20, 9, 12]'),\n",
              " Text(0.5990016638935108, 0.045454545454545456, 'gini = 0.748\\nsamples = 53\\nvalue = [4, 10, 20, 7, 12]'),\n",
              " Text(0.6056572379367721, 0.045454545454545456, 'gini = 0.0\\nsamples = 2\\nvalue = [0, 0, 0, 2, 0]'),\n",
              " Text(0.6156405990016639, 0.13636363636363635, 'X[1057] <= 0.5\\ngini = 0.5\\nsamples = 4\\nvalue = [2, 0, 0, 2, 0]'),\n",
              " Text(0.6123128119800333, 0.045454545454545456, 'gini = 0.0\\nsamples = 2\\nvalue = [2, 0, 0, 0, 0]'),\n",
              " Text(0.6189683860232945, 0.045454545454545456, 'gini = 0.0\\nsamples = 2\\nvalue = [0, 0, 0, 2, 0]'),\n",
              " Text(0.6156405990016639, 0.22727272727272727, 'gini = 0.0\\nsamples = 3\\nvalue = [0, 0, 0, 0, 3]'),\n",
              " Text(0.6189683860232945, 0.3181818181818182, 'gini = 0.0\\nsamples = 3\\nvalue = [0, 3, 0, 0, 0]'),\n",
              " Text(0.6222961730449251, 0.4090909090909091, 'gini = 0.0\\nsamples = 5\\nvalue = [0, 0, 5, 0, 0]'),\n",
              " Text(0.6688851913477537, 0.5909090909090909, 'X[4021] <= 0.5\\ngini = 0.763\\nsamples = 87\\nvalue = [6, 18, 28, 22, 13]'),\n",
              " Text(0.6555740432612313, 0.5, 'X[2100] <= 0.5\\ngini = 0.765\\nsamples = 78\\nvalue = [6, 18, 26, 15, 13]'),\n",
              " Text(0.6422628951747088, 0.4090909090909091, 'X[3937] <= 0.5\\ngini = 0.748\\nsamples = 68\\nvalue = [5, 14, 26, 10, 13]'),\n",
              " Text(0.6356073211314476, 0.3181818181818182, 'X[2872] <= 1.5\\ngini = 0.74\\nsamples = 62\\nvalue = [5, 9, 25, 10, 13]'),\n",
              " Text(0.632279534109817, 0.22727272727272727, 'X[3685] <= 0.5\\ngini = 0.727\\nsamples = 60\\nvalue = [3, 9, 25, 10, 13]'),\n",
              " Text(0.6289517470881864, 0.13636363636363635, 'X[3167] <= 0.5\\ngini = 0.717\\nsamples = 58\\nvalue = [3, 7, 25, 10, 13]'),\n",
              " Text(0.6256239600665557, 0.045454545454545456, 'gini = 0.715\\nsamples = 38\\nvalue = [3, 7, 17, 7, 4]'),\n",
              " Text(0.632279534109817, 0.045454545454545456, 'gini = 0.615\\nsamples = 20\\nvalue = [0, 0, 8, 3, 9]'),\n",
              " Text(0.6356073211314476, 0.13636363636363635, 'gini = 0.0\\nsamples = 2\\nvalue = [0, 2, 0, 0, 0]'),\n",
              " Text(0.6389351081530782, 0.22727272727272727, 'gini = 0.0\\nsamples = 2\\nvalue = [2, 0, 0, 0, 0]'),\n",
              " Text(0.64891846921797, 0.3181818181818182, 'X[1863] <= 0.5\\ngini = 0.278\\nsamples = 6\\nvalue = [0, 5, 1, 0, 0]'),\n",
              " Text(0.6455906821963394, 0.22727272727272727, 'gini = 0.0\\nsamples = 5\\nvalue = [0, 5, 0, 0, 0]'),\n",
              " Text(0.6522462562396006, 0.22727272727272727, 'gini = 0.0\\nsamples = 1\\nvalue = [0, 0, 1, 0, 0]'),\n",
              " Text(0.6688851913477537, 0.4090909090909091, 'X[1343] <= 0.5\\ngini = 0.58\\nsamples = 10\\nvalue = [1, 4, 0, 5, 0]'),\n",
              " Text(0.6622296173044925, 0.3181818181818182, 'X[3855] <= 0.5\\ngini = 0.444\\nsamples = 6\\nvalue = [0, 4, 0, 2, 0]'),\n",
              " Text(0.6589018302828619, 0.22727272727272727, 'gini = 0.0\\nsamples = 3\\nvalue = [0, 3, 0, 0, 0]'),\n",
              " Text(0.6655574043261231, 0.22727272727272727, 'X[622] <= 0.5\\ngini = 0.444\\nsamples = 3\\nvalue = [0, 1, 0, 2, 0]'),\n",
              " Text(0.6622296173044925, 0.13636363636363635, 'gini = 0.0\\nsamples = 2\\nvalue = [0, 0, 0, 2, 0]'),\n",
              " Text(0.6688851913477537, 0.13636363636363635, 'gini = 0.0\\nsamples = 1\\nvalue = [0, 1, 0, 0, 0]'),\n",
              " Text(0.6755407653910149, 0.3181818181818182, 'X[3764] <= 0.5\\ngini = 0.375\\nsamples = 4\\nvalue = [1, 0, 0, 3, 0]'),\n",
              " Text(0.6722129783693843, 0.22727272727272727, 'gini = 0.0\\nsamples = 3\\nvalue = [0, 0, 0, 3, 0]'),\n",
              " Text(0.6788685524126455, 0.22727272727272727, 'gini = 0.0\\nsamples = 1\\nvalue = [1, 0, 0, 0, 0]'),\n",
              " Text(0.6821963394342762, 0.5, 'X[1936] <= 0.5\\ngini = 0.346\\nsamples = 9\\nvalue = [0, 0, 2, 7, 0]'),\n",
              " Text(0.6788685524126455, 0.4090909090909091, 'gini = 0.0\\nsamples = 6\\nvalue = [0, 0, 0, 6, 0]'),\n",
              " Text(0.6855241264559068, 0.4090909090909091, 'X[1401] <= 0.5\\ngini = 0.444\\nsamples = 3\\nvalue = [0, 0, 2, 1, 0]'),\n",
              " Text(0.6821963394342762, 0.3181818181818182, 'gini = 0.0\\nsamples = 2\\nvalue = [0, 0, 2, 0, 0]'),\n",
              " Text(0.6888519134775375, 0.3181818181818182, 'gini = 0.0\\nsamples = 1\\nvalue = [0, 0, 0, 1, 0]'),\n",
              " Text(0.740432612312812, 0.6818181818181818, 'X[526] <= 0.5\\ngini = 0.751\\nsamples = 330\\nvalue = [19, 84, 116, 49, 62]'),\n",
              " Text(0.7337770382695508, 0.5909090909090909, 'X[3937] <= 1.5\\ngini = 0.748\\nsamples = 323\\nvalue = [19, 84, 116, 48, 56]'),\n",
              " Text(0.7304492512479202, 0.5, 'X[2730] <= 0.5\\ngini = 0.746\\nsamples = 319\\nvalue = [19, 84, 116, 48, 52]'),\n",
              " Text(0.7088186356073212, 0.4090909090909091, 'X[645] <= 0.5\\ngini = 0.741\\nsamples = 300\\nvalue = [19, 79, 113, 47, 42]'),\n",
              " Text(0.6955074875207987, 0.3181818181818182, 'X[257] <= 0.5\\ngini = 0.733\\nsamples = 289\\nvalue = [18, 76, 113, 46, 36]'),\n",
              " Text(0.6921797004991681, 0.22727272727272727, 'X[3897] <= 0.5\\ngini = 0.733\\nsamples = 284\\nvalue = [18, 71, 113, 46, 36]'),\n",
              " Text(0.6855241264559068, 0.13636363636363635, 'X[2267] <= 0.5\\ngini = 0.703\\nsamples = 221\\nvalue = [13, 60, 97, 29, 22]'),\n",
              " Text(0.6821963394342762, 0.045454545454545456, 'gini = 0.696\\nsamples = 218\\nvalue = [10, 60, 97, 29, 22]'),\n",
              " Text(0.6888519134775375, 0.045454545454545456, 'gini = 0.0\\nsamples = 3\\nvalue = [3, 0, 0, 0, 0]'),\n",
              " Text(0.6988352745424293, 0.13636363636363635, 'X[2793] <= 0.5\\ngini = 0.777\\nsamples = 63\\nvalue = [5, 11, 16, 17, 14]'),\n",
              " Text(0.6955074875207987, 0.045454545454545456, 'gini = 0.756\\nsamples = 38\\nvalue = [3, 7, 5, 10, 13]'),\n",
              " Text(0.7021630615640599, 0.045454545454545456, 'gini = 0.694\\nsamples = 25\\nvalue = [2, 4, 11, 7, 1]'),\n",
              " Text(0.6988352745424293, 0.22727272727272727, 'gini = 0.0\\nsamples = 5\\nvalue = [0, 5, 0, 0, 0]'),\n",
              " Text(0.7221297836938436, 0.3181818181818182, 'X[1078] <= 0.5\\ngini = 0.612\\nsamples = 11\\nvalue = [1, 3, 0, 1, 6]'),\n",
              " Text(0.718801996672213, 0.22727272727272727, 'X[1099] <= 0.5\\ngini = 0.519\\nsamples = 9\\nvalue = [1, 1, 0, 1, 6]'),\n",
              " Text(0.7121464226289518, 0.13636363636363635, 'X[3688] <= 0.5\\ngini = 0.245\\nsamples = 7\\nvalue = [0, 1, 0, 0, 6]'),\n",
              " Text(0.7088186356073212, 0.045454545454545456, 'gini = 0.0\\nsamples = 6\\nvalue = [0, 0, 0, 0, 6]'),\n",
              " Text(0.7154742096505824, 0.045454545454545456, 'gini = 0.0\\nsamples = 1\\nvalue = [0, 1, 0, 0, 0]'),\n",
              " Text(0.7254575707154742, 0.13636363636363635, 'X[3675] <= 0.5\\ngini = 0.5\\nsamples = 2\\nvalue = [1, 0, 0, 1, 0]'),\n",
              " Text(0.7221297836938436, 0.045454545454545456, 'gini = 0.0\\nsamples = 1\\nvalue = [0, 0, 0, 1, 0]'),\n",
              " Text(0.7287853577371048, 0.045454545454545456, 'gini = 0.0\\nsamples = 1\\nvalue = [1, 0, 0, 0, 0]'),\n",
              " Text(0.7254575707154742, 0.22727272727272727, 'gini = 0.0\\nsamples = 2\\nvalue = [0, 2, 0, 0, 0]'),\n",
              " Text(0.7520798668885191, 0.4090909090909091, 'X[2386] <= 0.5\\ngini = 0.626\\nsamples = 19\\nvalue = [0, 5, 3, 1, 10]'),\n",
              " Text(0.7487520798668885, 0.3181818181818182, 'X[2876] <= 0.5\\ngini = 0.555\\nsamples = 16\\nvalue = [0, 2, 3, 1, 10]'),\n",
              " Text(0.7454242928452579, 0.22727272727272727, 'X[2722] <= 0.5\\ngini = 0.459\\nsamples = 14\\nvalue = [0, 2, 1, 1, 10]'),\n",
              " Text(0.7387687188019967, 0.13636363636363635, 'X[2484] <= 0.5\\ngini = 0.278\\nsamples = 12\\nvalue = [0, 2, 0, 0, 10]'),\n",
              " Text(0.7354409317803661, 0.045454545454545456, 'gini = 0.165\\nsamples = 11\\nvalue = [0, 1, 0, 0, 10]'),\n",
              " Text(0.7420965058236273, 0.045454545454545456, 'gini = 0.0\\nsamples = 1\\nvalue = [0, 1, 0, 0, 0]'),\n",
              " Text(0.7520798668885191, 0.13636363636363635, 'X[817] <= 0.5\\ngini = 0.5\\nsamples = 2\\nvalue = [0, 0, 1, 1, 0]'),\n",
              " Text(0.7487520798668885, 0.045454545454545456, 'gini = 0.0\\nsamples = 1\\nvalue = [0, 0, 1, 0, 0]'),\n",
              " Text(0.7554076539101497, 0.045454545454545456, 'gini = 0.0\\nsamples = 1\\nvalue = [0, 0, 0, 1, 0]'),\n",
              " Text(0.7520798668885191, 0.22727272727272727, 'gini = 0.0\\nsamples = 2\\nvalue = [0, 0, 2, 0, 0]'),\n",
              " Text(0.7554076539101497, 0.3181818181818182, 'gini = 0.0\\nsamples = 3\\nvalue = [0, 3, 0, 0, 0]'),\n",
              " Text(0.7371048252911814, 0.5, 'gini = 0.0\\nsamples = 4\\nvalue = [0, 0, 0, 0, 4]'),\n",
              " Text(0.7470881863560732, 0.5909090909090909, 'X[2936] <= 0.5\\ngini = 0.245\\nsamples = 7\\nvalue = [0, 0, 0, 1, 6]'),\n",
              " Text(0.7437603993344426, 0.5, 'gini = 0.0\\nsamples = 6\\nvalue = [0, 0, 0, 0, 6]'),\n",
              " Text(0.7504159733777038, 0.5, 'gini = 0.0\\nsamples = 1\\nvalue = [0, 0, 0, 1, 0]'),\n",
              " Text(0.9327943011647255, 0.8636363636363636, 'X[3765] <= 0.5\\ngini = 0.373\\nsamples = 2522\\nvalue = [27, 54, 96, 390, 1955]'),\n",
              " Text(0.8904430116472546, 0.7727272727272727, 'X[2878] <= 0.5\\ngini = 0.358\\nsamples = 2475\\nvalue = [24, 47, 86, 373, 1945]'),\n",
              " Text(0.8607529118136439, 0.6818181818181818, 'X[3323] <= 0.5\\ngini = 0.35\\nsamples = 2457\\nvalue = [21, 44, 82, 366, 1944]'),\n",
              " Text(0.8396422628951747, 0.5909090909090909, 'X[2876] <= 0.5\\ngini = 0.345\\nsamples = 2437\\nvalue = [21, 44, 81, 352, 1939]'),\n",
              " Text(0.81738768718802, 0.5, 'X[1123] <= 0.5\\ngini = 0.334\\nsamples = 2397\\nvalue = [19, 39, 74, 341, 1924]'),\n",
              " Text(0.7928452579034941, 0.4090909090909091, 'X[463] <= 0.5\\ngini = 0.325\\nsamples = 2366\\nvalue = [17, 34, 70, 332, 1913]'),\n",
              " Text(0.7753743760399334, 0.3181818181818182, 'X[1941] <= 0.5\\ngini = 0.309\\nsamples = 2221\\nvalue = [17, 28, 61, 294, 1821]'),\n",
              " Text(0.7687188019966722, 0.22727272727272727, 'X[3014] <= 0.5\\ngini = 0.302\\nsamples = 2195\\nvalue = [17, 27, 59, 281, 1811]'),\n",
              " Text(0.7653910149750416, 0.13636363636363635, 'X[2960] <= 0.5\\ngini = 0.299\\nsamples = 2190\\nvalue = [17, 27, 59, 276, 1811]'),\n",
              " Text(0.762063227953411, 0.045454545454545456, 'gini = 0.296\\nsamples = 2184\\nvalue = [17, 25, 58, 273, 1811]'),\n",
              " Text(0.7687188019966722, 0.045454545454545456, 'gini = 0.611\\nsamples = 6\\nvalue = [0, 2, 1, 3, 0]'),\n",
              " Text(0.7720465890183028, 0.13636363636363635, 'gini = 0.0\\nsamples = 5\\nvalue = [0, 0, 0, 5, 0]'),\n",
              " Text(0.7820299500831946, 0.22727272727272727, 'X[2756] <= 0.5\\ngini = 0.595\\nsamples = 26\\nvalue = [0, 1, 2, 13, 10]'),\n",
              " Text(0.778702163061564, 0.13636363636363635, 'X[1643] <= 0.5\\ngini = 0.578\\nsamples = 23\\nvalue = [0, 1, 2, 13, 7]'),\n",
              " Text(0.7753743760399334, 0.045454545454545456, 'gini = 0.525\\nsamples = 20\\nvalue = [0, 1, 2, 13, 4]'),\n",
              " Text(0.7820299500831946, 0.045454545454545456, 'gini = 0.0\\nsamples = 3\\nvalue = [0, 0, 0, 0, 3]'),\n",
              " Text(0.7853577371048253, 0.13636363636363635, 'gini = 0.0\\nsamples = 3\\nvalue = [0, 0, 0, 0, 3]'),\n",
              " Text(0.8103161397670549, 0.3181818181818182, 'X[1187] <= 2.5\\ngini = 0.523\\nsamples = 145\\nvalue = [0, 6, 9, 38, 92]'),\n",
              " Text(0.7986688851913477, 0.22727272727272727, 'X[2327] <= 0.5\\ngini = 0.482\\nsamples = 136\\nvalue = [0, 3, 5, 38, 90]'),\n",
              " Text(0.7920133111480865, 0.13636363636363635, 'X[463] <= 1.5\\ngini = 0.442\\nsamples = 117\\nvalue = [0, 3, 4, 27, 83]'),\n",
              " Text(0.7886855241264559, 0.045454545454545456, 'gini = 0.401\\nsamples = 107\\nvalue = [0, 3, 3, 21, 80]'),\n",
              " Text(0.7953410981697171, 0.045454545454545456, 'gini = 0.54\\nsamples = 10\\nvalue = [0, 0, 1, 6, 3]'),\n",
              " Text(0.8053244592346089, 0.13636363636363635, 'X[2040] <= 0.5\\ngini = 0.526\\nsamples = 19\\nvalue = [0, 0, 1, 11, 7]'),\n",
              " Text(0.8019966722129783, 0.045454545454545456, 'gini = 0.561\\nsamples = 14\\nvalue = [0, 0, 1, 6, 7]'),\n",
              " Text(0.8086522462562395, 0.045454545454545456, 'gini = 0.0\\nsamples = 5\\nvalue = [0, 0, 0, 5, 0]'),\n",
              " Text(0.8219633943427621, 0.22727272727272727, 'X[2826] <= 0.5\\ngini = 0.642\\nsamples = 9\\nvalue = [0, 3, 4, 0, 2]'),\n",
              " Text(0.8186356073211315, 0.13636363636363635, 'X[729] <= 0.5\\ngini = 0.49\\nsamples = 7\\nvalue = [0, 3, 4, 0, 0]'),\n",
              " Text(0.8153078202995009, 0.045454545454545456, 'gini = 0.32\\nsamples = 5\\nvalue = [0, 1, 4, 0, 0]'),\n",
              " Text(0.8219633943427621, 0.045454545454545456, 'gini = 0.0\\nsamples = 2\\nvalue = [0, 2, 0, 0, 0]'),\n",
              " Text(0.8252911813643927, 0.13636363636363635, 'gini = 0.0\\nsamples = 2\\nvalue = [0, 0, 0, 0, 2]'),\n",
              " Text(0.8419301164725458, 0.4090909090909091, 'X[3969] <= 0.5\\ngini = 0.743\\nsamples = 31\\nvalue = [2, 5, 4, 9, 11]'),\n",
              " Text(0.8386023294509152, 0.3181818181818182, 'X[2242] <= 0.5\\ngini = 0.76\\nsamples = 26\\nvalue = [2, 5, 4, 9, 6]'),\n",
              " Text(0.8352745424292846, 0.22727272727272727, 'X[2531] <= 0.5\\ngini = 0.74\\nsamples = 24\\nvalue = [2, 5, 2, 9, 6]'),\n",
              " Text(0.831946755407654, 0.13636363636363635, 'X[1423] <= 0.5\\ngini = 0.698\\nsamples = 22\\nvalue = [2, 5, 0, 9, 6]'),\n",
              " Text(0.8286189683860233, 0.045454545454545456, 'gini = 0.609\\nsamples = 16\\nvalue = [1, 3, 0, 9, 3]'),\n",
              " Text(0.8352745424292846, 0.045454545454545456, 'gini = 0.611\\nsamples = 6\\nvalue = [1, 2, 0, 0, 3]'),\n",
              " Text(0.8386023294509152, 0.13636363636363635, 'gini = 0.0\\nsamples = 2\\nvalue = [0, 0, 2, 0, 0]'),\n",
              " Text(0.8419301164725458, 0.22727272727272727, 'gini = 0.0\\nsamples = 2\\nvalue = [0, 0, 2, 0, 0]'),\n",
              " Text(0.8452579034941764, 0.3181818181818182, 'gini = 0.0\\nsamples = 5\\nvalue = [0, 0, 0, 0, 5]'),\n",
              " Text(0.8618968386023295, 0.5, 'X[2403] <= 0.5\\ngini = 0.735\\nsamples = 40\\nvalue = [2, 5, 7, 11, 15]'),\n",
              " Text(0.8585690515806988, 0.4090909090909091, 'X[2766] <= 0.5\\ngini = 0.758\\nsamples = 34\\nvalue = [2, 5, 7, 11, 9]'),\n",
              " Text(0.8552412645590682, 0.3181818181818182, 'X[629] <= 0.5\\ngini = 0.755\\nsamples = 31\\nvalue = [2, 5, 7, 11, 6]'),\n",
              " Text(0.8519134775374376, 0.22727272727272727, 'X[1446] <= 0.5\\ngini = 0.742\\nsamples = 28\\nvalue = [2, 5, 4, 11, 6]'),\n",
              " Text(0.8452579034941764, 0.13636363636363635, 'X[1111] <= 0.5\\ngini = 0.712\\nsamples = 24\\nvalue = [2, 4, 4, 11, 3]'),\n",
              " Text(0.8419301164725458, 0.045454545454545456, 'gini = 0.674\\nsamples = 22\\nvalue = [2, 4, 4, 11, 1]'),\n",
              " Text(0.848585690515807, 0.045454545454545456, 'gini = 0.0\\nsamples = 2\\nvalue = [0, 0, 0, 0, 2]'),\n",
              " Text(0.8585690515806988, 0.13636363636363635, 'X[2189] <= 0.5\\ngini = 0.375\\nsamples = 4\\nvalue = [0, 1, 0, 0, 3]'),\n",
              " Text(0.8552412645590682, 0.045454545454545456, 'gini = 0.0\\nsamples = 3\\nvalue = [0, 0, 0, 0, 3]'),\n",
              " Text(0.8618968386023295, 0.045454545454545456, 'gini = 0.0\\nsamples = 1\\nvalue = [0, 1, 0, 0, 0]'),\n",
              " Text(0.8585690515806988, 0.22727272727272727, 'gini = 0.0\\nsamples = 3\\nvalue = [0, 0, 3, 0, 0]'),\n",
              " Text(0.8618968386023295, 0.3181818181818182, 'gini = 0.0\\nsamples = 3\\nvalue = [0, 0, 0, 0, 3]'),\n",
              " Text(0.8652246256239601, 0.4090909090909091, 'gini = 0.0\\nsamples = 6\\nvalue = [0, 0, 0, 0, 6]'),\n",
              " Text(0.8818635607321131, 0.5909090909090909, 'X[2120] <= 1.5\\ngini = 0.445\\nsamples = 20\\nvalue = [0, 0, 1, 14, 5]'),\n",
              " Text(0.8785357737104825, 0.5, 'X[1446] <= 0.5\\ngini = 0.364\\nsamples = 18\\nvalue = [0, 0, 1, 14, 3]'),\n",
              " Text(0.8718801996672213, 0.4090909090909091, 'X[1993] <= 1.5\\ngini = 0.219\\nsamples = 16\\nvalue = [0, 0, 0, 14, 2]'),\n",
              " Text(0.8685524126455907, 0.3181818181818182, 'X[1520] <= 0.5\\ngini = 0.124\\nsamples = 15\\nvalue = [0, 0, 0, 14, 1]'),\n",
              " Text(0.8652246256239601, 0.22727272727272727, 'gini = 0.0\\nsamples = 14\\nvalue = [0, 0, 0, 14, 0]'),\n",
              " Text(0.8718801996672213, 0.22727272727272727, 'gini = 0.0\\nsamples = 1\\nvalue = [0, 0, 0, 0, 1]'),\n",
              " Text(0.8752079866888519, 0.3181818181818182, 'gini = 0.0\\nsamples = 1\\nvalue = [0, 0, 0, 0, 1]'),\n",
              " Text(0.8851913477537438, 0.4090909090909091, 'X[1189] <= 0.5\\ngini = 0.5\\nsamples = 2\\nvalue = [0, 0, 1, 0, 1]'),\n",
              " Text(0.8818635607321131, 0.3181818181818182, 'gini = 0.0\\nsamples = 1\\nvalue = [0, 0, 1, 0, 0]'),\n",
              " Text(0.8885191347753744, 0.3181818181818182, 'gini = 0.0\\nsamples = 1\\nvalue = [0, 0, 0, 0, 1]'),\n",
              " Text(0.8851913477537438, 0.5, 'gini = 0.0\\nsamples = 2\\nvalue = [0, 0, 0, 0, 2]'),\n",
              " Text(0.9201331114808652, 0.6818181818181818, 'X[2096] <= 0.5\\ngini = 0.741\\nsamples = 18\\nvalue = [3, 3, 4, 7, 1]'),\n",
              " Text(0.913477537437604, 0.5909090909090909, 'X[1141] <= 0.5\\ngini = 0.673\\nsamples = 14\\nvalue = [3, 2, 1, 7, 1]'),\n",
              " Text(0.9101497504159733, 0.5, 'X[3248] <= 0.5\\ngini = 0.611\\nsamples = 12\\nvalue = [1, 2, 1, 7, 1]'),\n",
              " Text(0.9018302828618968, 0.4090909090909091, 'X[2509] <= 0.5\\ngini = 0.46\\nsamples = 10\\nvalue = [1, 2, 0, 7, 0]'),\n",
              " Text(0.8951747088186356, 0.3181818181818182, 'X[3866] <= 0.5\\ngini = 0.219\\nsamples = 8\\nvalue = [0, 1, 0, 7, 0]'),\n",
              " Text(0.891846921797005, 0.22727272727272727, 'gini = 0.0\\nsamples = 7\\nvalue = [0, 0, 0, 7, 0]'),\n",
              " Text(0.8985024958402662, 0.22727272727272727, 'gini = 0.0\\nsamples = 1\\nvalue = [0, 1, 0, 0, 0]'),\n",
              " Text(0.908485856905158, 0.3181818181818182, 'X[3923] <= 0.5\\ngini = 0.5\\nsamples = 2\\nvalue = [1, 1, 0, 0, 0]'),\n",
              " Text(0.9051580698835274, 0.22727272727272727, 'gini = 0.0\\nsamples = 1\\nvalue = [1, 0, 0, 0, 0]'),\n",
              " Text(0.9118136439267887, 0.22727272727272727, 'gini = 0.0\\nsamples = 1\\nvalue = [0, 1, 0, 0, 0]'),\n",
              " Text(0.9184692179700499, 0.4090909090909091, 'X[3383] <= 1.0\\ngini = 0.5\\nsamples = 2\\nvalue = [0, 0, 1, 0, 1]'),\n",
              " Text(0.9151414309484193, 0.3181818181818182, 'gini = 0.0\\nsamples = 1\\nvalue = [0, 0, 0, 0, 1]'),\n",
              " Text(0.9217970049916805, 0.3181818181818182, 'gini = 0.0\\nsamples = 1\\nvalue = [0, 0, 1, 0, 0]'),\n",
              " Text(0.9168053244592346, 0.5, 'gini = 0.0\\nsamples = 2\\nvalue = [2, 0, 0, 0, 0]'),\n",
              " Text(0.9267886855241264, 0.5909090909090909, 'X[2961] <= 0.5\\ngini = 0.375\\nsamples = 4\\nvalue = [0, 1, 3, 0, 0]'),\n",
              " Text(0.9234608985024958, 0.5, 'gini = 0.0\\nsamples = 3\\nvalue = [0, 0, 3, 0, 0]'),\n",
              " Text(0.930116472545757, 0.5, 'gini = 0.0\\nsamples = 1\\nvalue = [0, 1, 0, 0, 0]'),\n",
              " Text(0.9751455906821963, 0.7727272727272727, 'X[3] <= 0.5\\ngini = 0.752\\nsamples = 47\\nvalue = [3, 7, 10, 17, 10]'),\n",
              " Text(0.9718178036605657, 0.6818181818181818, 'X[1187] <= 1.5\\ngini = 0.744\\nsamples = 44\\nvalue = [3, 7, 10, 17, 7]'),\n",
              " Text(0.956946755407654, 0.5909090909090909, 'X[831] <= 0.5\\ngini = 0.704\\nsamples = 35\\nvalue = [2, 2, 9, 15, 7]'),\n",
              " Text(0.947171381031614, 0.5, 'X[3183] <= 1.5\\ngini = 0.672\\nsamples = 31\\nvalue = [1, 2, 6, 15, 7]'),\n",
              " Text(0.937603993344426, 0.4090909090909091, 'X[463] <= 0.5\\ngini = 0.625\\nsamples = 28\\nvalue = [0, 2, 4, 15, 7]'),\n",
              " Text(0.9284525790349417, 0.3181818181818182, 'X[1900] <= 0.5\\ngini = 0.554\\nsamples = 25\\nvalue = [0, 1, 2, 15, 7]'),\n",
              " Text(0.9201331114808652, 0.22727272727272727, 'X[2747] <= 0.5\\ngini = 0.459\\nsamples = 22\\nvalue = [0, 1, 0, 15, 6]'),\n",
              " Text(0.913477537437604, 0.13636363636363635, 'X[3920] <= 0.5\\ngini = 0.32\\nsamples = 16\\nvalue = [0, 1, 0, 13, 2]'),\n",
              " Text(0.9101497504159733, 0.045454545454545456, 'gini = 0.231\\nsamples = 15\\nvalue = [0, 0, 0, 13, 2]'),\n",
              " Text(0.9168053244592346, 0.045454545454545456, 'gini = 0.0\\nsamples = 1\\nvalue = [0, 1, 0, 0, 0]'),\n",
              " Text(0.9267886855241264, 0.13636363636363635, 'X[429] <= 0.5\\ngini = 0.444\\nsamples = 6\\nvalue = [0, 0, 0, 2, 4]'),\n",
              " Text(0.9234608985024958, 0.045454545454545456, 'gini = 0.0\\nsamples = 4\\nvalue = [0, 0, 0, 0, 4]'),\n",
              " Text(0.930116472545757, 0.045454545454545456, 'gini = 0.0\\nsamples = 2\\nvalue = [0, 0, 0, 2, 0]'),\n",
              " Text(0.9367720465890182, 0.22727272727272727, 'X[1936] <= 0.5\\ngini = 0.444\\nsamples = 3\\nvalue = [0, 0, 2, 0, 1]'),\n",
              " Text(0.9334442595673876, 0.13636363636363635, 'gini = 0.0\\nsamples = 1\\nvalue = [0, 0, 0, 0, 1]'),\n",
              " Text(0.940099833610649, 0.13636363636363635, 'gini = 0.0\\nsamples = 2\\nvalue = [0, 0, 2, 0, 0]'),\n",
              " Text(0.9467554076539102, 0.3181818181818182, 'X[3448] <= 0.5\\ngini = 0.444\\nsamples = 3\\nvalue = [0, 1, 2, 0, 0]'),\n",
              " Text(0.9434276206322796, 0.22727272727272727, 'gini = 0.0\\nsamples = 2\\nvalue = [0, 0, 2, 0, 0]'),\n",
              " Text(0.9500831946755408, 0.22727272727272727, 'gini = 0.0\\nsamples = 1\\nvalue = [0, 1, 0, 0, 0]'),\n",
              " Text(0.956738768718802, 0.4090909090909091, 'X[2992] <= 0.5\\ngini = 0.444\\nsamples = 3\\nvalue = [1, 0, 2, 0, 0]'),\n",
              " Text(0.9534109816971714, 0.3181818181818182, 'gini = 0.0\\nsamples = 2\\nvalue = [0, 0, 2, 0, 0]'),\n",
              " Text(0.9600665557404326, 0.3181818181818182, 'gini = 0.0\\nsamples = 1\\nvalue = [1, 0, 0, 0, 0]'),\n",
              " Text(0.9667221297836939, 0.5, 'X[3100] <= 2.0\\ngini = 0.375\\nsamples = 4\\nvalue = [1, 0, 3, 0, 0]'),\n",
              " Text(0.9633943427620633, 0.4090909090909091, 'gini = 0.0\\nsamples = 3\\nvalue = [0, 0, 3, 0, 0]'),\n",
              " Text(0.9700499168053245, 0.4090909090909091, 'gini = 0.0\\nsamples = 1\\nvalue = [1, 0, 0, 0, 0]'),\n",
              " Text(0.9866888519134775, 0.5909090909090909, 'X[3908] <= 0.5\\ngini = 0.617\\nsamples = 9\\nvalue = [1, 5, 1, 2, 0]'),\n",
              " Text(0.9800332778702163, 0.5, 'X[2876] <= 0.5\\ngini = 0.408\\nsamples = 7\\nvalue = [0, 5, 0, 2, 0]'),\n",
              " Text(0.9767054908485857, 0.4090909090909091, 'gini = 0.0\\nsamples = 4\\nvalue = [0, 4, 0, 0, 0]'),\n",
              " Text(0.9833610648918469, 0.4090909090909091, 'X[3167] <= 1.5\\ngini = 0.444\\nsamples = 3\\nvalue = [0, 1, 0, 2, 0]'),\n",
              " Text(0.9800332778702163, 0.3181818181818182, 'gini = 0.0\\nsamples = 2\\nvalue = [0, 0, 0, 2, 0]'),\n",
              " Text(0.9866888519134775, 0.3181818181818182, 'gini = 0.0\\nsamples = 1\\nvalue = [0, 1, 0, 0, 0]'),\n",
              " Text(0.9933444259567388, 0.5, 'X[3124] <= 0.5\\ngini = 0.5\\nsamples = 2\\nvalue = [1, 0, 1, 0, 0]'),\n",
              " Text(0.9900166389351082, 0.4090909090909091, 'gini = 0.0\\nsamples = 1\\nvalue = [1, 0, 0, 0, 0]'),\n",
              " Text(0.9966722129783694, 0.4090909090909091, 'gini = 0.0\\nsamples = 1\\nvalue = [0, 0, 1, 0, 0]'),\n",
              " Text(0.9784733777038269, 0.6818181818181818, 'gini = 0.0\\nsamples = 3\\nvalue = [0, 0, 0, 0, 3]')]"
            ]
          },
          "metadata": {},
          "execution_count": 12
        },
        {
          "output_type": "display_data",
          "data": {
            "text/plain": [
              "<Figure size 432x288 with 1 Axes>"
            ],
            "image/png": "[encoded data removed]"
          },
          "metadata": {
            "needs_background": "light"
          }
        }
      ]
    },
    {
      "cell_type": "markdown",
      "metadata": {
        "id": "cq1WPJ2MhqHn"
      },
      "source": [
        "Scores for uni + bi:\n",
        "weighted:\n",
        "0.493852598493613, \n",
        "0.44985786210927087\n",
        "\n",
        "macro:\n",
        "0.30683806437516437, \n",
        "0.23295535911473125\n",
        "\n",
        "micro:\n",
        "0.5113977734582081, \n",
        "0.5698886729104082"
      ]
    },
    {
      "cell_type": "markdown",
      "metadata": {
        "id": "VrLVcFI5cr62"
      },
      "source": [
        "Scores for unigrams df: \n",
        "weighted:\n",
        "0.5046160011027092, \n",
        "0.48827059566945696\n",
        "\n",
        "macro:\n",
        "0.31399753653968326\n",
        "0.2580344156125312, \n",
        "\n",
        "micro:\n",
        "0.5115744831242269, \n",
        "0.586499381516169"
      ]
    },
    {
      "cell_type": "markdown",
      "metadata": {
        "id": "DupP8-j3SwIz"
      },
      "source": [
        "Scores for tfid + unigrams df:\n",
        "weighted:\n",
        "0.49358415824809737, \n",
        "0.5046779385810966\n",
        "\n",
        "macro:\n",
        "0.3069028673410615, \n",
        "0.27546992004002374\n",
        "\n",
        "micro:\n",
        "0.4983212581728221,\n",
        "0.601519703127761\n",
        "\n",
        "\n"
      ]
    },
    {
      "cell_type": "markdown",
      "metadata": {
        "id": "s9-8fckhUmPN"
      },
      "source": [
        "Scores for tfid df:\n",
        "weighted:\n",
        "0.4945963579789231, \n",
        "0.49586740317734457\n",
        "\n",
        "macro:\n",
        "0.30825899832969217, \n",
        "0.25915091295417325\n",
        "\n",
        "micro: \n",
        "0.4986746775048595, \n",
        "0.5962184131471991\n",
        "\n",
        "\n",
        "\n"
      ]
    },
    {
      "cell_type": "markdown",
      "metadata": {
        "id": "idHgdqwdir7v"
      },
      "source": [
        "#### Multinomial Naive Bayes ####\n"
      ]
    },
    {
      "cell_type": "code",
      "execution_count": null,
      "metadata": {
        "id": "df12amIigRcZ"
      },
      "outputs": [],
      "source": [
        "X, y = df['Review Text'], df['Rating']\n",
        "\n",
        "# split into training and test data\n",
        "X_train, x_test, y_train, y_test = train_test_split(X, y, random_state = 9)\n",
        "\n",
        "# vectorize the training data\n",
        "vectorizer = CountVectorizer(stop_words = \"english\")\n",
        "X_train_v = vectorizer.fit_transform(X_train.values.astype('str'))"
      ]
    },
    {
      "cell_type": "code",
      "execution_count": null,
      "metadata": {
        "colab": {
          "base_uri": "https://localhost:8080/"
        },
        "id": "rCnT9snDio-i",
        "outputId": "fcb6216f-74c6-4cf3-fad0-9ad68ef2692e"
      },
      "outputs": [
        {
          "output_type": "stream",
          "name": "stdout",
          "text": [
            "Accuracy: 0.6393051771117166\n",
            "Mean Squared Error: 0.7697547683923706\n",
            "['dress' 'like' 'fabric' 'fit' 'just' 'size' 'small' 'looks' 'look' 'wear']\n",
            "['dress' 'like' 'size' 'just' 'fabric' 'fit' 'look' 'ordered' 'love'\n",
            " 'small']\n",
            "['dress' 'like' 'size' 'fit' 'just' 'fabric' 'love' 'look' 'small'\n",
            " 'really']\n",
            "['dress' 'size' 'like' 'fit' 'love' 'wear' 'great' 'just' 'little'\n",
            " 'fabric']\n",
            "['love' 'dress' 'size' 'great' 'wear' 'fit' 'like' 'perfect' 'just'\n",
            " 'color']\n"
          ]
        },
        {
          "output_type": "stream",
          "name": "stderr",
          "text": [
            "/usr/local/lib/python3.8/dist-packages/sklearn/utils/deprecation.py:87: FutureWarning: Function get_feature_names is deprecated; get_feature_names is deprecated in 1.0 and will be removed in 1.2. Please use get_feature_names_out instead.\n",
            "  warnings.warn(msg, category=FutureWarning)\n"
          ]
        }
      ],
      "source": [
        "# fit model\n",
        "nb_model = MultinomialNB()\n",
        "nb_model.fit(X_train_v, y_train)\n",
        "\n",
        "# vectorize the test data and predict \n",
        "x_test_v = vectorizer.transform(x_test.values.astype('str'))\n",
        "y_hat_nb = nb_model.predict(x_test_v)\n",
        "\n",
        "# get accuracy score + mse\n",
        "acc_nb = metrics.accuracy_score(y_test, y_hat_nb)\n",
        "mse_nb = metrics.mean_squared_error(y_test, y_hat_nb)\n",
        "print('Accuracy: ' + str(acc_nb))\n",
        "print('Mean Squared Error: ' + str(mse_nb))\n",
        "\n",
        "print(np.take(vectorizer.get_feature_names(), nb_model.feature_log_prob_[0, :].argsort()[::-1][:10]))\n",
        "print(np.take(vectorizer.get_feature_names(), nb_model.feature_log_prob_[1, :].argsort()[::-1][:10]))\n",
        "print(np.take(vectorizer.get_feature_names(), nb_model.feature_log_prob_[2, :].argsort()[::-1][:10]))\n",
        "print(np.take(vectorizer.get_feature_names(), nb_model.feature_log_prob_[3, :].argsort()[::-1][:10]))\n",
        "print(np.take(vectorizer.get_feature_names(), nb_model.feature_log_prob_[4, :].argsort()[::-1][:10]))"
      ]
    },
    {
      "cell_type": "code",
      "source": [
        "vectorizer2 = TfidfVectorizer(stop_words = 'english')\n",
        "X_train_v2 = vectorizer2.fit_transform(X_train.values.astype('str'))\n",
        "\n",
        "nb_model2 = MultinomialNB()\n",
        "nb_model2.fit(X_train_v2, y_train)\n",
        "\n",
        "x_test_v2 = vectorizer2.transform(x_test.values.astype('str'))\n",
        "y_hat_nb2 = nb_model.predict(x_test_v2)\n",
        "\n",
        "print('Accuracy')\n",
        "print(metrics.accuracy_score(y_test, y_hat_nb2))\n",
        "print('MSE')\n",
        "print(metrics.mean_squared_error(y_test, y_hat_nb2))\n",
        "print()\n",
        "print(np.take(vectorizer2.get_feature_names(), nb_model2.feature_log_prob_[0, :].argsort()[::-1][:10]))\n",
        "print(np.take(vectorizer2.get_feature_names(), nb_model2.feature_log_prob_[1, :].argsort()[::-1][:10]))\n",
        "print(np.take(vectorizer2.get_feature_names(), nb_model2.feature_log_prob_[2, :].argsort()[::-1][:10]))\n",
        "print(np.take(vectorizer2.get_feature_names(), nb_model2.feature_log_prob_[3, :].argsort()[::-1][:10]))\n",
        "print(np.take(vectorizer2.get_feature_names(), nb_model2.feature_log_prob_[4, :].argsort()[::-1][:10]))"
      ],
      "metadata": {
        "colab": {
          "base_uri": "https://localhost:8080/"
        },
        "id": "Y7R9JPVIAc_p",
        "outputId": "9c3ac8c9-dc12-4908-d351-0a5cd034ac24"
      },
      "execution_count": null,
      "outputs": [
        {
          "output_type": "stream",
          "name": "stdout",
          "text": [
            "Accuracy\n",
            "0.603542234332425\n",
            "MSE\n",
            "1.2385899182561309\n",
            "\n",
            "['like' 'dress' 'fabric' 'nan' 'material' 'fit' 'looks' 'shirt' 'looked'\n",
            " 'just']\n",
            "['dress' 'like' 'fabric' 'just' 'size' 'look' 'shirt' 'ordered' 'fit'\n",
            " 'small']\n",
            "['dress' 'like' 'just' 'size' 'fabric' 'fit' 'small' 'really' 'look'\n",
            " 'large']\n",
            "['dress' 'size' 'nan' 'like' 'great' 'fit' 'little' 'love' 'wear' 'small']\n",
            "['love' 'nan' 'dress' 'great' 'size' 'wear' 'fit' 'perfect' 'comfortable'\n",
            " 'flattering']\n"
          ]
        },
        {
          "output_type": "stream",
          "name": "stderr",
          "text": [
            "/usr/local/lib/python3.8/dist-packages/sklearn/utils/deprecation.py:87: FutureWarning: Function get_feature_names is deprecated; get_feature_names is deprecated in 1.0 and will be removed in 1.2. Please use get_feature_names_out instead.\n",
            "  warnings.warn(msg, category=FutureWarning)\n"
          ]
        }
      ]
    },
    {
      "cell_type": "code",
      "source": [
        "#change target variable\n",
        "df = data[['Review Text', 'Recommended IND']]\n",
        "X2, y2 = df['Review Text'], df['Recommended IND']\n",
        "# split into training and test data\n",
        "X_train, x_test, y_train, y_test = train_test_split(X2, y2, random_state = 9)\n",
        "\n",
        "# vectorize the training data\n",
        "vectorizer = CountVectorizer(stop_words = \"english\")\n",
        "X_train_v = vectorizer.fit_transform(X_train.values.astype('str'))\n",
        "\n",
        "# fit model\n",
        "nb_model = MultinomialNB()\n",
        "nb_model.fit(X_train_v, y_train)\n",
        "\n",
        "# vectorize the test data and predict \n",
        "x_test_v = vectorizer.transform(x_test.values.astype('str'))\n",
        "y_hat_nb = nb_model.predict(x_test_v)\n",
        "\n",
        "# get accuracy score + mse\n",
        "acc_nb = metrics.accuracy_score(y_test, y_hat_nb)\n",
        "mse_nb = metrics.mean_squared_error(y_test, y_hat_nb)\n",
        "print('Accuracy: ' + str(acc_nb))\n",
        "print('Mean Squared Error: ' + str(mse_nb))\n"
      ],
      "metadata": {
        "colab": {
          "base_uri": "https://localhost:8080/"
        },
        "id": "NQcp95GQNk64",
        "outputId": "295232f7-28c4-4407-cb56-de865ed3a54d"
      },
      "execution_count": null,
      "outputs": [
        {
          "output_type": "stream",
          "name": "stdout",
          "text": [
            "Accuracy: 0.8942438692098093\n",
            "Mean Squared Error: 0.10575613079019074\n"
          ]
        }
      ]
    },
    {
      "cell_type": "markdown",
      "metadata": {
        "id": "bhDfPYvpiz2T"
      },
      "source": [
        "#### Multinomial Logistic Regression ####"
      ]
    },
    {
      "cell_type": "code",
      "execution_count": null,
      "metadata": {
        "id": "7xXXz3dOi3SL",
        "colab": {
          "base_uri": "https://localhost:8080/"
        },
        "outputId": "2269bda5-3418-4e78-84ae-969fb3e1d0e3"
      },
      "outputs": [
        {
          "output_type": "stream",
          "name": "stdout",
          "text": [
            "Accuracy: 0.8848773841961853\n",
            "Mean Squared Error: 0.11512261580381472\n"
          ]
        }
      ],
      "source": [
        "lr_model = LogisticRegression(multi_class = 'multinomial', max_iter = 200)\n",
        "lr_model.fit(X_train_v, y_train)\n",
        "\n",
        "y_hat_lr = lr_model.predict(x_test_v)\n",
        "\n",
        "acc_lr = metrics.accuracy_score(y_test, y_hat_lr)\n",
        "mse_lr = metrics.mean_squared_error(y_test, y_hat_lr)\n",
        "\n",
        "print('Accuracy: ' + str(acc_lr))\n",
        "print('Mean Squared Error: ' + str(mse_lr))\n"
      ]
    },
    {
      "cell_type": "code",
      "source": [
        "lr_model2 = lr_model = LogisticRegression(multi_class = 'multinomial', random_state = 9, max_iter = 200)\n",
        "\n",
        "vectorizer2 = TfidfVectorizer(stop_words = 'english')\n",
        "X_train_v2 = vectorizer2.fit_transform(X_train.values.astype('str'))\n",
        "x_test_v2 = vectorizer2.transform(x_test.values.astype('str'))\n",
        "\n",
        "lr_model2.fit(X_train_v2, y_train)\n",
        "\n",
        "y_hat_lr2 = lr_model.predict(x_test_v)\n",
        "print('Accuracy')\n",
        "print(metrics.accuracy_score(y_test, y_hat_lr2))\n",
        "print('MSE')\n",
        "print(metrics.mean_squared_error(y_test, y_hat_lr2))"
      ],
      "metadata": {
        "colab": {
          "base_uri": "https://localhost:8080/"
        },
        "id": "NfajkDK9_eaW",
        "outputId": "8ab5505e-f2c1-40a6-9ab3-9ea8cba9c514"
      },
      "execution_count": null,
      "outputs": [
        {
          "output_type": "stream",
          "name": "stdout",
          "text": [
            "Accuracy\n",
            "0.8913487738419619\n",
            "MSE\n",
            "0.10865122615803814\n"
          ]
        }
      ]
    }
  ],
  "metadata": {
    "colab": {
      "provenance": []
    },
    "kernelspec": {
      "display_name": "Python 3",
      "name": "python3"
    },
    "language_info": {
      "name": "python"
    }
  },
  "nbformat": 4,
  "nbformat_minor": 0
}